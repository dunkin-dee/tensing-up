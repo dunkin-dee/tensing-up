{
  "nbformat": 4,
  "nbformat_minor": 0,
  "metadata": {
    "colab": {
      "provenance": []
    },
    "kernelspec": {
      "name": "python3",
      "display_name": "Python 3"
    },
    "language_info": {
      "name": "python"
    },
    "accelerator": "GPU",
    "gpuClass": "standard"
  },
  "cells": [
    {
      "cell_type": "markdown",
      "source": [
        "# Introduction to neural network classification with tensorflow"
      ],
      "metadata": {
        "id": "wazrWX8yCD7A"
      }
    },
    {
      "cell_type": "code",
      "source": [
        "from sklearn.datasets import make_circles\n",
        "\n",
        "n_samples = 1000\n",
        "X,y = make_circles(n_samples,\n",
        "                   noise=0.03,\n",
        "                   random_state=42)"
      ],
      "metadata": {
        "id": "CXLbktGVDcPh"
      },
      "execution_count": null,
      "outputs": []
    },
    {
      "cell_type": "code",
      "source": [
        "X[:10],y[:10]"
      ],
      "metadata": {
        "colab": {
          "base_uri": "https://localhost:8080/"
        },
        "id": "Q_O_5-GbDuHb",
        "outputId": "c9e4a0ba-eebf-42fe-8faa-0ee585063540"
      },
      "execution_count": null,
      "outputs": [
        {
          "output_type": "execute_result",
          "data": {
            "text/plain": [
              "(array([[ 0.75424625,  0.23148074],\n",
              "        [-0.75615888,  0.15325888],\n",
              "        [-0.81539193,  0.17328203],\n",
              "        [-0.39373073,  0.69288277],\n",
              "        [ 0.44220765, -0.89672343],\n",
              "        [-0.47964637,  0.67643477],\n",
              "        [-0.01364836,  0.80334872],\n",
              "        [ 0.77151327,  0.14775959],\n",
              "        [-0.16932234, -0.79345575],\n",
              "        [-0.1214858 ,  1.02150905]]), array([1, 1, 1, 1, 0, 1, 1, 1, 1, 0]))"
            ]
          },
          "metadata": {},
          "execution_count": 2
        }
      ]
    },
    {
      "cell_type": "code",
      "source": [
        "import pandas as pd\n",
        "circles = pd.DataFrame({\"X0\":X[:, 0], \"X1\":X[:, 1], \"label\":y})"
      ],
      "metadata": {
        "id": "JIPMHkL-D4Pz"
      },
      "execution_count": null,
      "outputs": []
    },
    {
      "cell_type": "code",
      "source": [
        "circles"
      ],
      "metadata": {
        "colab": {
          "base_uri": "https://localhost:8080/",
          "height": 424
        },
        "id": "dv3UIAUSD-NR",
        "outputId": "8a73a6c2-a103-4542-9fea-203ef010eb40"
      },
      "execution_count": null,
      "outputs": [
        {
          "output_type": "execute_result",
          "data": {
            "text/plain": [
              "           X0        X1  label\n",
              "0    0.754246  0.231481      1\n",
              "1   -0.756159  0.153259      1\n",
              "2   -0.815392  0.173282      1\n",
              "3   -0.393731  0.692883      1\n",
              "4    0.442208 -0.896723      0\n",
              "..        ...       ...    ...\n",
              "995  0.244054  0.944125      0\n",
              "996 -0.978655 -0.272373      0\n",
              "997 -0.136900 -0.810012      1\n",
              "998  0.670362 -0.767502      0\n",
              "999  0.281057  0.963824      0\n",
              "\n",
              "[1000 rows x 3 columns]"
            ],
            "text/html": [
              "\n",
              "  <div id=\"df-e155388f-f1a3-4c0b-b98f-bb493fc8ee47\">\n",
              "    <div class=\"colab-df-container\">\n",
              "      <div>\n",
              "<style scoped>\n",
              "    .dataframe tbody tr th:only-of-type {\n",
              "        vertical-align: middle;\n",
              "    }\n",
              "\n",
              "    .dataframe tbody tr th {\n",
              "        vertical-align: top;\n",
              "    }\n",
              "\n",
              "    .dataframe thead th {\n",
              "        text-align: right;\n",
              "    }\n",
              "</style>\n",
              "<table border=\"1\" class=\"dataframe\">\n",
              "  <thead>\n",
              "    <tr style=\"text-align: right;\">\n",
              "      <th></th>\n",
              "      <th>X0</th>\n",
              "      <th>X1</th>\n",
              "      <th>label</th>\n",
              "    </tr>\n",
              "  </thead>\n",
              "  <tbody>\n",
              "    <tr>\n",
              "      <th>0</th>\n",
              "      <td>0.754246</td>\n",
              "      <td>0.231481</td>\n",
              "      <td>1</td>\n",
              "    </tr>\n",
              "    <tr>\n",
              "      <th>1</th>\n",
              "      <td>-0.756159</td>\n",
              "      <td>0.153259</td>\n",
              "      <td>1</td>\n",
              "    </tr>\n",
              "    <tr>\n",
              "      <th>2</th>\n",
              "      <td>-0.815392</td>\n",
              "      <td>0.173282</td>\n",
              "      <td>1</td>\n",
              "    </tr>\n",
              "    <tr>\n",
              "      <th>3</th>\n",
              "      <td>-0.393731</td>\n",
              "      <td>0.692883</td>\n",
              "      <td>1</td>\n",
              "    </tr>\n",
              "    <tr>\n",
              "      <th>4</th>\n",
              "      <td>0.442208</td>\n",
              "      <td>-0.896723</td>\n",
              "      <td>0</td>\n",
              "    </tr>\n",
              "    <tr>\n",
              "      <th>...</th>\n",
              "      <td>...</td>\n",
              "      <td>...</td>\n",
              "      <td>...</td>\n",
              "    </tr>\n",
              "    <tr>\n",
              "      <th>995</th>\n",
              "      <td>0.244054</td>\n",
              "      <td>0.944125</td>\n",
              "      <td>0</td>\n",
              "    </tr>\n",
              "    <tr>\n",
              "      <th>996</th>\n",
              "      <td>-0.978655</td>\n",
              "      <td>-0.272373</td>\n",
              "      <td>0</td>\n",
              "    </tr>\n",
              "    <tr>\n",
              "      <th>997</th>\n",
              "      <td>-0.136900</td>\n",
              "      <td>-0.810012</td>\n",
              "      <td>1</td>\n",
              "    </tr>\n",
              "    <tr>\n",
              "      <th>998</th>\n",
              "      <td>0.670362</td>\n",
              "      <td>-0.767502</td>\n",
              "      <td>0</td>\n",
              "    </tr>\n",
              "    <tr>\n",
              "      <th>999</th>\n",
              "      <td>0.281057</td>\n",
              "      <td>0.963824</td>\n",
              "      <td>0</td>\n",
              "    </tr>\n",
              "  </tbody>\n",
              "</table>\n",
              "<p>1000 rows × 3 columns</p>\n",
              "</div>\n",
              "      <button class=\"colab-df-convert\" onclick=\"convertToInteractive('df-e155388f-f1a3-4c0b-b98f-bb493fc8ee47')\"\n",
              "              title=\"Convert this dataframe to an interactive table.\"\n",
              "              style=\"display:none;\">\n",
              "        \n",
              "  <svg xmlns=\"http://www.w3.org/2000/svg\" height=\"24px\"viewBox=\"0 0 24 24\"\n",
              "       width=\"24px\">\n",
              "    <path d=\"M0 0h24v24H0V0z\" fill=\"none\"/>\n",
              "    <path d=\"M18.56 5.44l.94 2.06.94-2.06 2.06-.94-2.06-.94-.94-2.06-.94 2.06-2.06.94zm-11 1L8.5 8.5l.94-2.06 2.06-.94-2.06-.94L8.5 2.5l-.94 2.06-2.06.94zm10 10l.94 2.06.94-2.06 2.06-.94-2.06-.94-.94-2.06-.94 2.06-2.06.94z\"/><path d=\"M17.41 7.96l-1.37-1.37c-.4-.4-.92-.59-1.43-.59-.52 0-1.04.2-1.43.59L10.3 9.45l-7.72 7.72c-.78.78-.78 2.05 0 2.83L4 21.41c.39.39.9.59 1.41.59.51 0 1.02-.2 1.41-.59l7.78-7.78 2.81-2.81c.8-.78.8-2.07 0-2.86zM5.41 20L4 18.59l7.72-7.72 1.47 1.35L5.41 20z\"/>\n",
              "  </svg>\n",
              "      </button>\n",
              "      \n",
              "  <style>\n",
              "    .colab-df-container {\n",
              "      display:flex;\n",
              "      flex-wrap:wrap;\n",
              "      gap: 12px;\n",
              "    }\n",
              "\n",
              "    .colab-df-convert {\n",
              "      background-color: #E8F0FE;\n",
              "      border: none;\n",
              "      border-radius: 50%;\n",
              "      cursor: pointer;\n",
              "      display: none;\n",
              "      fill: #1967D2;\n",
              "      height: 32px;\n",
              "      padding: 0 0 0 0;\n",
              "      width: 32px;\n",
              "    }\n",
              "\n",
              "    .colab-df-convert:hover {\n",
              "      background-color: #E2EBFA;\n",
              "      box-shadow: 0px 1px 2px rgba(60, 64, 67, 0.3), 0px 1px 3px 1px rgba(60, 64, 67, 0.15);\n",
              "      fill: #174EA6;\n",
              "    }\n",
              "\n",
              "    [theme=dark] .colab-df-convert {\n",
              "      background-color: #3B4455;\n",
              "      fill: #D2E3FC;\n",
              "    }\n",
              "\n",
              "    [theme=dark] .colab-df-convert:hover {\n",
              "      background-color: #434B5C;\n",
              "      box-shadow: 0px 1px 3px 1px rgba(0, 0, 0, 0.15);\n",
              "      filter: drop-shadow(0px 1px 2px rgba(0, 0, 0, 0.3));\n",
              "      fill: #FFFFFF;\n",
              "    }\n",
              "  </style>\n",
              "\n",
              "      <script>\n",
              "        const buttonEl =\n",
              "          document.querySelector('#df-e155388f-f1a3-4c0b-b98f-bb493fc8ee47 button.colab-df-convert');\n",
              "        buttonEl.style.display =\n",
              "          google.colab.kernel.accessAllowed ? 'block' : 'none';\n",
              "\n",
              "        async function convertToInteractive(key) {\n",
              "          const element = document.querySelector('#df-e155388f-f1a3-4c0b-b98f-bb493fc8ee47');\n",
              "          const dataTable =\n",
              "            await google.colab.kernel.invokeFunction('convertToInteractive',\n",
              "                                                     [key], {});\n",
              "          if (!dataTable) return;\n",
              "\n",
              "          const docLinkHtml = 'Like what you see? Visit the ' +\n",
              "            '<a target=\"_blank\" href=https://colab.research.google.com/notebooks/data_table.ipynb>data table notebook</a>'\n",
              "            + ' to learn more about interactive tables.';\n",
              "          element.innerHTML = '';\n",
              "          dataTable['output_type'] = 'display_data';\n",
              "          await google.colab.output.renderOutput(dataTable, element);\n",
              "          const docLink = document.createElement('div');\n",
              "          docLink.innerHTML = docLinkHtml;\n",
              "          element.appendChild(docLink);\n",
              "        }\n",
              "      </script>\n",
              "    </div>\n",
              "  </div>\n",
              "  "
            ]
          },
          "metadata": {},
          "execution_count": 4
        }
      ]
    },
    {
      "cell_type": "code",
      "source": [
        "import matplotlib.pyplot as plt\n",
        "plt.scatter(X[:, 0], X[:,1], c=y, cmap=plt.cm.RdYlBu);"
      ],
      "metadata": {
        "colab": {
          "base_uri": "https://localhost:8080/",
          "height": 265
        },
        "id": "v2qbgOg8EAlI",
        "outputId": "041fcd96-464d-4e0a-81d6-3d92dfa9a9a5"
      },
      "execution_count": null,
      "outputs": [
        {
          "output_type": "display_data",
          "data": {
            "text/plain": [
              "<Figure size 432x288 with 1 Axes>"
            ],
            "image/png": "[encoded data removed]"
          },
          "metadata": {
            "needs_background": "light"
          }
        }
      ]
    },
    {
      "cell_type": "code",
      "source": [
        "X.shape, y.shape"
      ],
      "metadata": {
        "colab": {
          "base_uri": "https://localhost:8080/"
        },
        "id": "xgV9vAnOFVKs",
        "outputId": "e79ee7cc-d0f6-4753-84d4-94fd0364a2f5"
      },
      "execution_count": null,
      "outputs": [
        {
          "output_type": "execute_result",
          "data": {
            "text/plain": [
              "((1000, 2), (1000,))"
            ]
          },
          "metadata": {},
          "execution_count": 6
        }
      ]
    },
    {
      "cell_type": "code",
      "source": [
        "X[0], y[0]"
      ],
      "metadata": {
        "colab": {
          "base_uri": "https://localhost:8080/"
        },
        "id": "Bnn9xjfNLx-j",
        "outputId": "9a5455fe-9603-4920-edd4-7eef6fb571a2"
      },
      "execution_count": null,
      "outputs": [
        {
          "output_type": "execute_result",
          "data": {
            "text/plain": [
              "(array([0.75424625, 0.23148074]), 1)"
            ]
          },
          "metadata": {},
          "execution_count": 7
        }
      ]
    },
    {
      "cell_type": "code",
      "source": [
        "import tensorflow as tf"
      ],
      "metadata": {
        "id": "LOM0pHpoMA8v"
      },
      "execution_count": null,
      "outputs": []
    },
    {
      "cell_type": "code",
      "source": [
        "from sklearn.model_selection import train_test_split\n",
        "X_train, X_test, y_train, y_test = train_test_split(X, y, test_size=0.2)"
      ],
      "metadata": {
        "id": "TOSL8vDDND1p"
      },
      "execution_count": null,
      "outputs": []
    },
    {
      "cell_type": "code",
      "source": [
        "tf.random.set_seed(42)\n",
        "\n",
        "\n",
        "model = tf.keras.Sequential([                             \n",
        "  tf.keras.layers.Dense(1),\n",
        "])\n",
        "\n",
        "model.compile(loss=tf.keras.losses.BinaryCrossentropy(),\n",
        "              optimizer=tf.keras.optimizers.SGD(),\n",
        "              metrics=[\"accuracy\"])\n",
        "model.fit(X, y, epochs=5)"
      ],
      "metadata": {
        "colab": {
          "base_uri": "https://localhost:8080/"
        },
        "id": "hSPIcGr0MHhm",
        "outputId": "649ac0db-744c-42e5-8b90-992166aaee24"
      },
      "execution_count": null,
      "outputs": [
        {
          "output_type": "stream",
          "name": "stdout",
          "text": [
            "Epoch 1/5\n",
            "32/32 [==============================] - 4s 2ms/step - loss: 2.8544 - accuracy: 0.4600\n",
            "Epoch 2/5\n",
            "32/32 [==============================] - 0s 2ms/step - loss: 0.7131 - accuracy: 0.5430\n",
            "Epoch 3/5\n",
            "32/32 [==============================] - 0s 2ms/step - loss: 0.6973 - accuracy: 0.5090\n",
            "Epoch 4/5\n",
            "32/32 [==============================] - 0s 2ms/step - loss: 0.6950 - accuracy: 0.5010\n",
            "Epoch 5/5\n",
            "32/32 [==============================] - 0s 2ms/step - loss: 0.6942 - accuracy: 0.4830\n"
          ]
        },
        {
          "output_type": "execute_result",
          "data": {
            "text/plain": [
              "<keras.callbacks.History at 0x7f7f603daa50>"
            ]
          },
          "metadata": {},
          "execution_count": 10
        }
      ]
    },
    {
      "cell_type": "code",
      "source": [
        "model.fit(X, y, epochs=200, verbose=0)\n",
        "model.evaluate(X,y)"
      ],
      "metadata": {
        "colab": {
          "base_uri": "https://localhost:8080/"
        },
        "id": "XQ41b9XfNDHA",
        "outputId": "de968722-5e76-43bf-8b54-7df2efbb88c1"
      },
      "execution_count": null,
      "outputs": [
        {
          "output_type": "stream",
          "name": "stdout",
          "text": [
            "32/32 [==============================] - 0s 4ms/step - loss: 0.6935 - accuracy: 0.5000\n"
          ]
        },
        {
          "output_type": "execute_result",
          "data": {
            "text/plain": [
              "[0.6934829950332642, 0.5]"
            ]
          },
          "metadata": {},
          "execution_count": 11
        }
      ]
    },
    {
      "cell_type": "code",
      "source": [],
      "metadata": {
        "id": "enpBAabPNCZo"
      },
      "execution_count": null,
      "outputs": []
    },
    {
      "cell_type": "code",
      "source": [
        "tf.random.set_seed(42)\n",
        "\n",
        "\n",
        "model_2 = tf.keras.Sequential([                             \n",
        "  tf.keras.layers.Dense(1),\n",
        "  tf.keras.layers.Dense(1)\n",
        "])\n",
        "\n",
        "model.compile(loss=tf.keras.losses.BinaryCrossentropy(),\n",
        "              optimizer=tf.keras.optimizers.SGD(),\n",
        "              metrics=[\"accuracy\"])\n",
        "model.fit(X, y, epochs=200)"
      ],
      "metadata": {
        "colab": {
          "base_uri": "https://localhost:8080/"
        },
        "outputId": "cf4e8671-45cc-408c-d562-7cb74ac08edf",
        "id": "z9NmBC_pRGKt"
      },
      "execution_count": null,
      "outputs": [
        {
          "output_type": "stream",
          "name": "stdout",
          "text": [
            "Epoch 1/200\n",
            "32/32 [==============================] - 1s 4ms/step - loss: 0.6944 - accuracy: 0.4700\n",
            "Epoch 2/200\n",
            "32/32 [==============================] - 0s 6ms/step - loss: 0.6941 - accuracy: 0.5000\n",
            "Epoch 3/200\n",
            "32/32 [==============================] - 0s 6ms/step - loss: 0.6946 - accuracy: 0.4720\n",
            "Epoch 4/200\n",
            "32/32 [==============================] - 0s 5ms/step - loss: 0.6941 - accuracy: 0.4830\n",
            "Epoch 5/200\n",
            "32/32 [==============================] - 0s 4ms/step - loss: 0.6940 - accuracy: 0.4660\n",
            "Epoch 6/200\n",
            "32/32 [==============================] - 0s 4ms/step - loss: 0.6936 - accuracy: 0.5010\n",
            "Epoch 7/200\n",
            "32/32 [==============================] - 0s 4ms/step - loss: 0.6943 - accuracy: 0.5030\n",
            "Epoch 8/200\n",
            "32/32 [==============================] - 0s 5ms/step - loss: 0.6941 - accuracy: 0.4800\n",
            "Epoch 9/200\n",
            "32/32 [==============================] - 0s 4ms/step - loss: 0.6940 - accuracy: 0.4790\n",
            "Epoch 10/200\n",
            "32/32 [==============================] - 0s 4ms/step - loss: 0.6938 - accuracy: 0.4790\n",
            "Epoch 11/200\n",
            "32/32 [==============================] - 0s 5ms/step - loss: 0.6944 - accuracy: 0.4550\n",
            "Epoch 12/200\n",
            "32/32 [==============================] - 0s 4ms/step - loss: 0.6945 - accuracy: 0.4750\n",
            "Epoch 13/200\n",
            "32/32 [==============================] - 0s 4ms/step - loss: 0.6943 - accuracy: 0.4910\n",
            "Epoch 14/200\n",
            "32/32 [==============================] - 0s 3ms/step - loss: 0.6944 - accuracy: 0.5030\n",
            "Epoch 15/200\n",
            "32/32 [==============================] - 0s 4ms/step - loss: 0.6941 - accuracy: 0.4490\n",
            "Epoch 16/200\n",
            "32/32 [==============================] - 0s 4ms/step - loss: 0.6944 - accuracy: 0.4890\n",
            "Epoch 17/200\n",
            "32/32 [==============================] - 0s 4ms/step - loss: 0.6941 - accuracy: 0.4910\n",
            "Epoch 18/200\n",
            "32/32 [==============================] - 0s 4ms/step - loss: 0.6940 - accuracy: 0.4760\n",
            "Epoch 19/200\n",
            "32/32 [==============================] - 0s 4ms/step - loss: 0.6941 - accuracy: 0.4820\n",
            "Epoch 20/200\n",
            "32/32 [==============================] - 0s 4ms/step - loss: 0.6941 - accuracy: 0.4550\n",
            "Epoch 21/200\n",
            "32/32 [==============================] - 0s 4ms/step - loss: 0.6939 - accuracy: 0.4900\n",
            "Epoch 22/200\n",
            "32/32 [==============================] - 0s 4ms/step - loss: 0.6942 - accuracy: 0.4690\n",
            "Epoch 23/200\n",
            "32/32 [==============================] - 0s 4ms/step - loss: 0.6940 - accuracy: 0.4840\n",
            "Epoch 24/200\n",
            "32/32 [==============================] - 0s 5ms/step - loss: 0.6942 - accuracy: 0.4680\n",
            "Epoch 25/200\n",
            "32/32 [==============================] - 0s 5ms/step - loss: 0.6939 - accuracy: 0.4890\n",
            "Epoch 26/200\n",
            "32/32 [==============================] - 0s 5ms/step - loss: 0.6943 - accuracy: 0.4740\n",
            "Epoch 27/200\n",
            "32/32 [==============================] - 0s 4ms/step - loss: 0.6938 - accuracy: 0.5060\n",
            "Epoch 28/200\n",
            "32/32 [==============================] - 0s 4ms/step - loss: 0.6943 - accuracy: 0.4690\n",
            "Epoch 29/200\n",
            "32/32 [==============================] - 0s 4ms/step - loss: 0.6942 - accuracy: 0.4620\n",
            "Epoch 30/200\n",
            "32/32 [==============================] - 0s 5ms/step - loss: 0.6941 - accuracy: 0.4870\n",
            "Epoch 31/200\n",
            "32/32 [==============================] - 0s 4ms/step - loss: 0.6942 - accuracy: 0.5230\n",
            "Epoch 32/200\n",
            "32/32 [==============================] - 0s 4ms/step - loss: 0.6941 - accuracy: 0.4670\n",
            "Epoch 33/200\n",
            "32/32 [==============================] - 0s 4ms/step - loss: 0.6942 - accuracy: 0.4760\n",
            "Epoch 34/200\n",
            "32/32 [==============================] - 0s 4ms/step - loss: 0.6946 - accuracy: 0.4590\n",
            "Epoch 35/200\n",
            "32/32 [==============================] - 0s 5ms/step - loss: 0.6941 - accuracy: 0.5010\n",
            "Epoch 36/200\n",
            "32/32 [==============================] - 0s 4ms/step - loss: 0.6943 - accuracy: 0.4710\n",
            "Epoch 37/200\n",
            "32/32 [==============================] - 0s 4ms/step - loss: 0.6940 - accuracy: 0.5020\n",
            "Epoch 38/200\n",
            "32/32 [==============================] - 0s 3ms/step - loss: 0.6940 - accuracy: 0.4670\n",
            "Epoch 39/200\n",
            "32/32 [==============================] - 0s 3ms/step - loss: 0.6941 - accuracy: 0.4350\n",
            "Epoch 40/200\n",
            "32/32 [==============================] - 0s 4ms/step - loss: 0.6948 - accuracy: 0.4720\n",
            "Epoch 41/200\n",
            "32/32 [==============================] - 0s 4ms/step - loss: 0.6941 - accuracy: 0.4730\n",
            "Epoch 42/200\n",
            "32/32 [==============================] - 0s 3ms/step - loss: 0.6941 - accuracy: 0.4640\n",
            "Epoch 43/200\n",
            "32/32 [==============================] - 0s 4ms/step - loss: 0.6942 - accuracy: 0.4850\n",
            "Epoch 44/200\n",
            "32/32 [==============================] - 0s 4ms/step - loss: 0.6935 - accuracy: 0.5080\n",
            "Epoch 45/200\n",
            "32/32 [==============================] - 0s 4ms/step - loss: 0.6944 - accuracy: 0.4710\n",
            "Epoch 46/200\n",
            "32/32 [==============================] - 0s 4ms/step - loss: 0.6942 - accuracy: 0.4850\n",
            "Epoch 47/200\n",
            "32/32 [==============================] - 0s 4ms/step - loss: 0.6939 - accuracy: 0.4940\n",
            "Epoch 48/200\n",
            "32/32 [==============================] - 0s 4ms/step - loss: 0.6939 - accuracy: 0.4900\n",
            "Epoch 49/200\n",
            "32/32 [==============================] - 0s 3ms/step - loss: 0.6941 - accuracy: 0.4770\n",
            "Epoch 50/200\n",
            "32/32 [==============================] - 0s 5ms/step - loss: 0.6941 - accuracy: 0.4980\n",
            "Epoch 51/200\n",
            "32/32 [==============================] - 0s 4ms/step - loss: 0.6942 - accuracy: 0.4820\n",
            "Epoch 52/200\n",
            "32/32 [==============================] - 0s 4ms/step - loss: 0.6941 - accuracy: 0.4890\n",
            "Epoch 53/200\n",
            "32/32 [==============================] - 0s 4ms/step - loss: 0.6939 - accuracy: 0.4690\n",
            "Epoch 54/200\n",
            "32/32 [==============================] - 0s 4ms/step - loss: 0.6943 - accuracy: 0.4920\n",
            "Epoch 55/200\n",
            "32/32 [==============================] - 0s 5ms/step - loss: 0.6942 - accuracy: 0.4970\n",
            "Epoch 56/200\n",
            "32/32 [==============================] - 0s 3ms/step - loss: 0.6940 - accuracy: 0.4800\n",
            "Epoch 57/200\n",
            "32/32 [==============================] - 0s 4ms/step - loss: 0.6944 - accuracy: 0.4710\n",
            "Epoch 58/200\n",
            "32/32 [==============================] - 0s 3ms/step - loss: 0.6942 - accuracy: 0.4870\n",
            "Epoch 59/200\n",
            "32/32 [==============================] - 0s 3ms/step - loss: 0.6939 - accuracy: 0.5030\n",
            "Epoch 60/200\n",
            "32/32 [==============================] - 0s 4ms/step - loss: 0.6942 - accuracy: 0.5060\n",
            "Epoch 61/200\n",
            "32/32 [==============================] - 0s 4ms/step - loss: 0.6944 - accuracy: 0.4990\n",
            "Epoch 62/200\n",
            "32/32 [==============================] - 0s 3ms/step - loss: 0.6941 - accuracy: 0.4760\n",
            "Epoch 63/200\n",
            "32/32 [==============================] - 0s 4ms/step - loss: 0.6940 - accuracy: 0.4690\n",
            "Epoch 64/200\n",
            "32/32 [==============================] - 0s 4ms/step - loss: 0.6942 - accuracy: 0.4930\n",
            "Epoch 65/200\n",
            "32/32 [==============================] - 0s 4ms/step - loss: 0.6943 - accuracy: 0.4690\n",
            "Epoch 66/200\n",
            "32/32 [==============================] - 0s 4ms/step - loss: 0.6940 - accuracy: 0.4770\n",
            "Epoch 67/200\n",
            "32/32 [==============================] - 0s 3ms/step - loss: 0.6945 - accuracy: 0.4670\n",
            "Epoch 68/200\n",
            "32/32 [==============================] - 0s 4ms/step - loss: 0.6939 - accuracy: 0.4680\n",
            "Epoch 69/200\n",
            "32/32 [==============================] - 0s 4ms/step - loss: 0.6943 - accuracy: 0.5070\n",
            "Epoch 70/200\n",
            "32/32 [==============================] - 0s 4ms/step - loss: 0.6943 - accuracy: 0.4630\n",
            "Epoch 71/200\n",
            "32/32 [==============================] - 0s 4ms/step - loss: 0.6939 - accuracy: 0.4820\n",
            "Epoch 72/200\n",
            "32/32 [==============================] - 0s 4ms/step - loss: 0.6942 - accuracy: 0.4890\n",
            "Epoch 73/200\n",
            "32/32 [==============================] - 0s 5ms/step - loss: 0.6941 - accuracy: 0.4760\n",
            "Epoch 74/200\n",
            "32/32 [==============================] - 0s 4ms/step - loss: 0.6940 - accuracy: 0.5090\n",
            "Epoch 75/200\n",
            "32/32 [==============================] - 0s 4ms/step - loss: 0.6941 - accuracy: 0.4940\n",
            "Epoch 76/200\n",
            "32/32 [==============================] - 0s 5ms/step - loss: 0.6940 - accuracy: 0.5010\n",
            "Epoch 77/200\n",
            "32/32 [==============================] - 0s 5ms/step - loss: 0.6942 - accuracy: 0.4870\n",
            "Epoch 78/200\n",
            "32/32 [==============================] - 0s 6ms/step - loss: 0.6941 - accuracy: 0.4610\n",
            "Epoch 79/200\n",
            "32/32 [==============================] - 0s 4ms/step - loss: 0.6940 - accuracy: 0.4860\n",
            "Epoch 80/200\n",
            "32/32 [==============================] - 0s 3ms/step - loss: 0.6943 - accuracy: 0.5050\n",
            "Epoch 81/200\n",
            "32/32 [==============================] - 0s 4ms/step - loss: 0.6943 - accuracy: 0.5050\n",
            "Epoch 82/200\n",
            "32/32 [==============================] - 0s 4ms/step - loss: 0.6941 - accuracy: 0.4690\n",
            "Epoch 83/200\n",
            "32/32 [==============================] - 0s 4ms/step - loss: 0.6941 - accuracy: 0.4930\n",
            "Epoch 84/200\n",
            "32/32 [==============================] - 0s 3ms/step - loss: 0.6942 - accuracy: 0.4960\n",
            "Epoch 85/200\n",
            "32/32 [==============================] - 0s 3ms/step - loss: 0.6939 - accuracy: 0.4930\n",
            "Epoch 86/200\n",
            "32/32 [==============================] - 0s 4ms/step - loss: 0.6940 - accuracy: 0.4880\n",
            "Epoch 87/200\n",
            "32/32 [==============================] - 0s 3ms/step - loss: 0.6942 - accuracy: 0.4720\n",
            "Epoch 88/200\n",
            "32/32 [==============================] - 0s 4ms/step - loss: 0.6944 - accuracy: 0.4470\n",
            "Epoch 89/200\n",
            "32/32 [==============================] - 0s 4ms/step - loss: 0.6945 - accuracy: 0.4720\n",
            "Epoch 90/200\n",
            "32/32 [==============================] - 0s 5ms/step - loss: 0.6941 - accuracy: 0.4820\n",
            "Epoch 91/200\n",
            "32/32 [==============================] - 0s 4ms/step - loss: 0.6944 - accuracy: 0.4860\n",
            "Epoch 92/200\n",
            "32/32 [==============================] - 0s 4ms/step - loss: 0.6941 - accuracy: 0.5050\n",
            "Epoch 93/200\n",
            "32/32 [==============================] - 0s 4ms/step - loss: 0.6941 - accuracy: 0.4720\n",
            "Epoch 94/200\n",
            "32/32 [==============================] - 0s 4ms/step - loss: 0.6946 - accuracy: 0.4770\n",
            "Epoch 95/200\n",
            "32/32 [==============================] - 0s 4ms/step - loss: 0.6940 - accuracy: 0.4760\n",
            "Epoch 96/200\n",
            "32/32 [==============================] - 0s 4ms/step - loss: 0.6945 - accuracy: 0.4610\n",
            "Epoch 97/200\n",
            "32/32 [==============================] - 0s 4ms/step - loss: 0.6942 - accuracy: 0.4690\n",
            "Epoch 98/200\n",
            "32/32 [==============================] - 0s 4ms/step - loss: 0.6942 - accuracy: 0.4840\n",
            "Epoch 99/200\n",
            "32/32 [==============================] - 0s 5ms/step - loss: 0.6944 - accuracy: 0.4980\n",
            "Epoch 100/200\n",
            "32/32 [==============================] - 0s 4ms/step - loss: 0.6943 - accuracy: 0.4850\n",
            "Epoch 101/200\n",
            "32/32 [==============================] - 0s 5ms/step - loss: 0.6939 - accuracy: 0.5060\n",
            "Epoch 102/200\n",
            "32/32 [==============================] - 0s 6ms/step - loss: 0.6946 - accuracy: 0.4750\n",
            "Epoch 103/200\n",
            "32/32 [==============================] - 0s 6ms/step - loss: 0.6944 - accuracy: 0.4760\n",
            "Epoch 104/200\n",
            "32/32 [==============================] - 0s 5ms/step - loss: 0.6941 - accuracy: 0.4900\n",
            "Epoch 105/200\n",
            "32/32 [==============================] - 0s 4ms/step - loss: 0.6939 - accuracy: 0.4960\n",
            "Epoch 106/200\n",
            "32/32 [==============================] - 0s 3ms/step - loss: 0.6940 - accuracy: 0.4950\n",
            "Epoch 107/200\n",
            "32/32 [==============================] - 0s 4ms/step - loss: 0.6938 - accuracy: 0.4690\n",
            "Epoch 108/200\n",
            "32/32 [==============================] - 0s 3ms/step - loss: 0.6943 - accuracy: 0.4940\n",
            "Epoch 109/200\n",
            "32/32 [==============================] - 0s 4ms/step - loss: 0.6942 - accuracy: 0.4510\n",
            "Epoch 110/200\n",
            "32/32 [==============================] - 0s 4ms/step - loss: 0.6944 - accuracy: 0.4570\n",
            "Epoch 111/200\n",
            "32/32 [==============================] - 0s 4ms/step - loss: 0.6943 - accuracy: 0.4820\n",
            "Epoch 112/200\n",
            "32/32 [==============================] - 0s 3ms/step - loss: 0.6946 - accuracy: 0.4770\n",
            "Epoch 113/200\n",
            "32/32 [==============================] - 0s 4ms/step - loss: 0.6944 - accuracy: 0.4740\n",
            "Epoch 114/200\n",
            "32/32 [==============================] - 0s 4ms/step - loss: 0.6944 - accuracy: 0.4660\n",
            "Epoch 115/200\n",
            "32/32 [==============================] - 0s 4ms/step - loss: 0.6941 - accuracy: 0.4690\n",
            "Epoch 116/200\n",
            "32/32 [==============================] - 0s 4ms/step - loss: 0.6942 - accuracy: 0.4830\n",
            "Epoch 117/200\n",
            "32/32 [==============================] - 0s 4ms/step - loss: 0.6943 - accuracy: 0.5000\n",
            "Epoch 118/200\n",
            "32/32 [==============================] - 0s 5ms/step - loss: 0.6939 - accuracy: 0.4990\n",
            "Epoch 119/200\n",
            "32/32 [==============================] - 0s 4ms/step - loss: 0.6944 - accuracy: 0.4750\n",
            "Epoch 120/200\n",
            "32/32 [==============================] - 0s 3ms/step - loss: 0.6940 - accuracy: 0.4980\n",
            "Epoch 121/200\n",
            "32/32 [==============================] - 0s 4ms/step - loss: 0.6942 - accuracy: 0.4740\n",
            "Epoch 122/200\n",
            "32/32 [==============================] - 0s 4ms/step - loss: 0.6941 - accuracy: 0.4920\n",
            "Epoch 123/200\n",
            "32/32 [==============================] - 0s 3ms/step - loss: 0.6944 - accuracy: 0.4640\n",
            "Epoch 124/200\n",
            "32/32 [==============================] - 0s 4ms/step - loss: 0.6943 - accuracy: 0.4660\n",
            "Epoch 125/200\n",
            "32/32 [==============================] - 0s 5ms/step - loss: 0.6940 - accuracy: 0.4800\n",
            "Epoch 126/200\n",
            "32/32 [==============================] - 0s 4ms/step - loss: 0.6941 - accuracy: 0.4960\n",
            "Epoch 127/200\n",
            "32/32 [==============================] - 0s 4ms/step - loss: 0.6942 - accuracy: 0.4760\n",
            "Epoch 128/200\n",
            "32/32 [==============================] - 0s 4ms/step - loss: 0.6943 - accuracy: 0.4920\n",
            "Epoch 129/200\n",
            "32/32 [==============================] - 0s 3ms/step - loss: 0.6939 - accuracy: 0.5100\n",
            "Epoch 130/200\n",
            "32/32 [==============================] - 0s 4ms/step - loss: 0.6936 - accuracy: 0.4840\n",
            "Epoch 131/200\n",
            "32/32 [==============================] - 0s 5ms/step - loss: 0.6944 - accuracy: 0.4780\n",
            "Epoch 132/200\n",
            "32/32 [==============================] - 0s 4ms/step - loss: 0.6939 - accuracy: 0.4760\n",
            "Epoch 133/200\n",
            "32/32 [==============================] - 0s 6ms/step - loss: 0.6942 - accuracy: 0.4800\n",
            "Epoch 134/200\n",
            "32/32 [==============================] - 0s 6ms/step - loss: 0.6944 - accuracy: 0.4740\n",
            "Epoch 135/200\n",
            "32/32 [==============================] - 0s 6ms/step - loss: 0.6943 - accuracy: 0.4670\n",
            "Epoch 136/200\n",
            "32/32 [==============================] - 0s 7ms/step - loss: 0.6944 - accuracy: 0.4590\n",
            "Epoch 137/200\n",
            "32/32 [==============================] - 0s 6ms/step - loss: 0.6943 - accuracy: 0.4840\n",
            "Epoch 138/200\n",
            "32/32 [==============================] - 0s 6ms/step - loss: 0.6943 - accuracy: 0.4610\n",
            "Epoch 139/200\n",
            "32/32 [==============================] - 0s 4ms/step - loss: 0.6942 - accuracy: 0.4810\n",
            "Epoch 140/200\n",
            "32/32 [==============================] - 0s 4ms/step - loss: 0.6942 - accuracy: 0.4610\n",
            "Epoch 141/200\n",
            "32/32 [==============================] - 0s 5ms/step - loss: 0.6941 - accuracy: 0.4630\n",
            "Epoch 142/200\n",
            "32/32 [==============================] - 0s 6ms/step - loss: 0.6941 - accuracy: 0.4790\n",
            "Epoch 143/200\n",
            "32/32 [==============================] - 0s 6ms/step - loss: 0.6943 - accuracy: 0.4790\n",
            "Epoch 144/200\n",
            "32/32 [==============================] - 0s 6ms/step - loss: 0.6943 - accuracy: 0.4650\n",
            "Epoch 145/200\n",
            "32/32 [==============================] - 0s 6ms/step - loss: 0.6943 - accuracy: 0.4990\n",
            "Epoch 146/200\n",
            "32/32 [==============================] - 0s 5ms/step - loss: 0.6945 - accuracy: 0.4570\n",
            "Epoch 147/200\n",
            "32/32 [==============================] - 0s 4ms/step - loss: 0.6943 - accuracy: 0.5110\n",
            "Epoch 148/200\n",
            "32/32 [==============================] - 0s 4ms/step - loss: 0.6943 - accuracy: 0.4880\n",
            "Epoch 149/200\n",
            "32/32 [==============================] - 0s 4ms/step - loss: 0.6941 - accuracy: 0.4500\n",
            "Epoch 150/200\n",
            "32/32 [==============================] - 0s 7ms/step - loss: 0.6943 - accuracy: 0.4700\n",
            "Epoch 151/200\n",
            "32/32 [==============================] - 0s 6ms/step - loss: 0.6938 - accuracy: 0.4620\n",
            "Epoch 152/200\n",
            "32/32 [==============================] - 0s 6ms/step - loss: 0.6940 - accuracy: 0.4990\n",
            "Epoch 153/200\n",
            "32/32 [==============================] - 0s 6ms/step - loss: 0.6942 - accuracy: 0.4870\n",
            "Epoch 154/200\n",
            "32/32 [==============================] - 0s 6ms/step - loss: 0.6936 - accuracy: 0.4810\n",
            "Epoch 155/200\n",
            "32/32 [==============================] - 0s 4ms/step - loss: 0.6944 - accuracy: 0.4780\n",
            "Epoch 156/200\n",
            "32/32 [==============================] - 0s 4ms/step - loss: 0.6944 - accuracy: 0.4680\n",
            "Epoch 157/200\n",
            "32/32 [==============================] - 0s 5ms/step - loss: 0.6944 - accuracy: 0.4990\n",
            "Epoch 158/200\n",
            "32/32 [==============================] - 0s 4ms/step - loss: 0.6940 - accuracy: 0.4940\n",
            "Epoch 159/200\n",
            "32/32 [==============================] - 0s 4ms/step - loss: 0.6943 - accuracy: 0.4710\n",
            "Epoch 160/200\n",
            "32/32 [==============================] - 0s 4ms/step - loss: 0.6943 - accuracy: 0.4880\n",
            "Epoch 161/200\n",
            "32/32 [==============================] - 0s 4ms/step - loss: 0.6942 - accuracy: 0.4770\n",
            "Epoch 162/200\n",
            "32/32 [==============================] - 0s 5ms/step - loss: 0.6943 - accuracy: 0.4920\n",
            "Epoch 163/200\n",
            "32/32 [==============================] - 0s 4ms/step - loss: 0.6946 - accuracy: 0.4690\n",
            "Epoch 164/200\n",
            "32/32 [==============================] - 0s 4ms/step - loss: 0.6943 - accuracy: 0.4610\n",
            "Epoch 165/200\n",
            "32/32 [==============================] - 0s 5ms/step - loss: 0.6939 - accuracy: 0.4970\n",
            "Epoch 166/200\n",
            "32/32 [==============================] - 0s 6ms/step - loss: 0.6942 - accuracy: 0.4800\n",
            "Epoch 167/200\n",
            "32/32 [==============================] - 0s 6ms/step - loss: 0.6948 - accuracy: 0.4930\n",
            "Epoch 168/200\n",
            "32/32 [==============================] - 0s 5ms/step - loss: 0.6941 - accuracy: 0.4690\n",
            "Epoch 169/200\n",
            "32/32 [==============================] - 0s 5ms/step - loss: 0.6940 - accuracy: 0.4880\n",
            "Epoch 170/200\n",
            "32/32 [==============================] - 0s 4ms/step - loss: 0.6938 - accuracy: 0.4850\n",
            "Epoch 171/200\n",
            "32/32 [==============================] - 0s 6ms/step - loss: 0.6939 - accuracy: 0.4980\n",
            "Epoch 172/200\n",
            "32/32 [==============================] - 0s 5ms/step - loss: 0.6942 - accuracy: 0.4770\n",
            "Epoch 173/200\n",
            "32/32 [==============================] - 0s 5ms/step - loss: 0.6942 - accuracy: 0.4730\n",
            "Epoch 174/200\n",
            "32/32 [==============================] - 0s 6ms/step - loss: 0.6943 - accuracy: 0.4950\n",
            "Epoch 175/200\n",
            "32/32 [==============================] - 0s 5ms/step - loss: 0.6946 - accuracy: 0.4900\n",
            "Epoch 176/200\n",
            "32/32 [==============================] - 0s 5ms/step - loss: 0.6942 - accuracy: 0.4770\n",
            "Epoch 177/200\n",
            "32/32 [==============================] - 0s 4ms/step - loss: 0.6941 - accuracy: 0.4670\n",
            "Epoch 178/200\n",
            "32/32 [==============================] - 0s 5ms/step - loss: 0.6941 - accuracy: 0.4840\n",
            "Epoch 179/200\n",
            "32/32 [==============================] - 0s 4ms/step - loss: 0.6943 - accuracy: 0.4880\n",
            "Epoch 180/200\n",
            "32/32 [==============================] - 0s 4ms/step - loss: 0.6942 - accuracy: 0.4960\n",
            "Epoch 181/200\n",
            "32/32 [==============================] - 0s 5ms/step - loss: 0.6943 - accuracy: 0.4890\n",
            "Epoch 182/200\n",
            "32/32 [==============================] - 0s 4ms/step - loss: 0.6941 - accuracy: 0.4760\n",
            "Epoch 183/200\n",
            "32/32 [==============================] - 0s 4ms/step - loss: 0.6942 - accuracy: 0.5030\n",
            "Epoch 184/200\n",
            "32/32 [==============================] - 0s 4ms/step - loss: 0.6943 - accuracy: 0.4890\n",
            "Epoch 185/200\n",
            "32/32 [==============================] - 0s 3ms/step - loss: 0.6944 - accuracy: 0.4890\n",
            "Epoch 186/200\n",
            "32/32 [==============================] - 0s 4ms/step - loss: 0.6945 - accuracy: 0.4810\n",
            "Epoch 187/200\n",
            "32/32 [==============================] - 0s 5ms/step - loss: 0.6943 - accuracy: 0.4760\n",
            "Epoch 188/200\n",
            "32/32 [==============================] - 0s 4ms/step - loss: 0.6943 - accuracy: 0.4910\n",
            "Epoch 189/200\n",
            "32/32 [==============================] - 0s 5ms/step - loss: 0.6940 - accuracy: 0.5120\n",
            "Epoch 190/200\n",
            "32/32 [==============================] - 0s 5ms/step - loss: 0.6943 - accuracy: 0.4720\n",
            "Epoch 191/200\n",
            "32/32 [==============================] - 0s 4ms/step - loss: 0.6941 - accuracy: 0.4770\n",
            "Epoch 192/200\n",
            "32/32 [==============================] - 0s 3ms/step - loss: 0.6940 - accuracy: 0.4970\n",
            "Epoch 193/200\n",
            "32/32 [==============================] - 0s 4ms/step - loss: 0.6939 - accuracy: 0.4720\n",
            "Epoch 194/200\n",
            "32/32 [==============================] - 0s 4ms/step - loss: 0.6941 - accuracy: 0.4940\n",
            "Epoch 195/200\n",
            "32/32 [==============================] - 0s 4ms/step - loss: 0.6942 - accuracy: 0.4660\n",
            "Epoch 196/200\n",
            "32/32 [==============================] - 0s 4ms/step - loss: 0.6943 - accuracy: 0.4740\n",
            "Epoch 197/200\n",
            "32/32 [==============================] - 0s 4ms/step - loss: 0.6942 - accuracy: 0.4890\n",
            "Epoch 198/200\n",
            "32/32 [==============================] - 0s 4ms/step - loss: 0.6943 - accuracy: 0.4830\n",
            "Epoch 199/200\n",
            "32/32 [==============================] - 0s 4ms/step - loss: 0.6937 - accuracy: 0.5120\n",
            "Epoch 200/200\n",
            "32/32 [==============================] - 0s 3ms/step - loss: 0.6941 - accuracy: 0.4810\n"
          ]
        },
        {
          "output_type": "execute_result",
          "data": {
            "text/plain": [
              "<keras.callbacks.History at 0x7f7f600b3110>"
            ]
          },
          "metadata": {},
          "execution_count": 12
        }
      ]
    },
    {
      "cell_type": "code",
      "source": [
        "tf.random.set_seed(42)\n",
        "model_3 = tf.keras.Sequential([\n",
        "  tf.keras.layers.Dense(1000, activation=\"relu\"),\n",
        "  tf.keras.layers.Dense(1000, activation=\"relu\"),\n",
        "  tf.keras.layers.Dense(1000, activation=\"relu\"),\n",
        "  tf.keras.layers.Dense(1, activation=\"sigmoid\")                         \n",
        "])\n",
        "\n",
        "model_3.compile(loss=tf.keras.losses.BinaryCrossentropy(),\n",
        "                optimizer=tf.keras.optimizers.Adam(learning_rate=0.0001),\n",
        "                metrics=[\"accuracy\"])\n",
        "\n",
        "history = model_3.fit(X_train, y_train, epochs=100, verbose=0)"
      ],
      "metadata": {
        "id": "AlRZ-LD6RTLc"
      },
      "execution_count": null,
      "outputs": []
    },
    {
      "cell_type": "code",
      "source": [
        "model_3.evaluate(X_test,y_test)"
      ],
      "metadata": {
        "colab": {
          "base_uri": "https://localhost:8080/"
        },
        "id": "1j3oYz0htpem",
        "outputId": "2f34b01a-7670-406f-9440-5fa95f396dd3"
      },
      "execution_count": null,
      "outputs": [
        {
          "output_type": "stream",
          "name": "stdout",
          "text": [
            "7/7 [==============================] - 0s 4ms/step - loss: 0.0017 - accuracy: 1.0000\n"
          ]
        },
        {
          "output_type": "execute_result",
          "data": {
            "text/plain": [
              "[0.0016530327266082168, 1.0]"
            ]
          },
          "metadata": {},
          "execution_count": 14
        }
      ]
    },
    {
      "cell_type": "code",
      "source": [
        "import numpy as np"
      ],
      "metadata": {
        "id": "oOzWZyGqxvUL"
      },
      "execution_count": null,
      "outputs": []
    },
    {
      "cell_type": "code",
      "source": [
        "def plot_decision_boundary(model, X, y):\n",
        "  x_min, x_max = X[:, 0].min() - 0.1, X[:, 0].max() + 0.1\n",
        "  y_min, y_max = X[:, 1].min() - 0.1, X[:, 1].max() + 0.1\n",
        "\n",
        "  xx, yy = np.meshgrid(np.linspace(x_min, x_max, 100),\n",
        "                       np.linspace(y_min, y_max, 100))\n",
        "  \n",
        "  x_in = np.c_[xx.ravel(), yy.ravel()]\n",
        "\n",
        "  y_pred = model.predict(x_in)\n",
        "\n",
        "  # Check for multi-class\n",
        "  if model.output_shape[-1] > 1: # checks the final dimension of the model's output shape, if this is > (greater than) 1, it's multi-class \n",
        "    print(\"doing multiclass classification...\")\n",
        "    # We have to reshape our predictions to get them ready for plotting\n",
        "    y_pred = np.argmax(y_pred, axis=1).reshape(xx.shape)\n",
        "  else:\n",
        "    print(\"doing binary classifcation...\")\n",
        "    y_pred = np.round(np.max(y_pred, axis=1)).reshape(xx.shape)\n",
        "  \n",
        "  # Plot decision boundary\n",
        "  plt.contourf(xx, yy, y_pred, cmap=plt.cm.RdYlBu, alpha=0.7)\n",
        "  plt.scatter(X[:, 0], X[:, 1], c=y, s=40, cmap=plt.cm.RdYlBu)\n",
        "  plt.xlim(xx.min(), xx.max())\n",
        "  plt.ylim(yy.min(), yy.max())"
      ],
      "metadata": {
        "id": "92WUuiLGtywY"
      },
      "execution_count": null,
      "outputs": []
    },
    {
      "cell_type": "code",
      "source": [
        "plot_decision_boundary(model_3, X_test, y_test)"
      ],
      "metadata": {
        "colab": {
          "base_uri": "https://localhost:8080/",
          "height": 282
        },
        "id": "V8Y5gGXpzm4U",
        "outputId": "a8643cdf-c760-4b29-a11f-f37236cd3fdc"
      },
      "execution_count": null,
      "outputs": [
        {
          "output_type": "stream",
          "name": "stdout",
          "text": [
            "doing binary classifcation...\n"
          ]
        },
        {
          "output_type": "display_data",
          "data": {
            "text/plain": [
              "<Figure size 432x288 with 1 Axes>"
            ],
            "image/png": "[encoded data removed]"
          },
          "metadata": {
            "needs_background": "light"
          }
        }
      ]
    },
    {
      "cell_type": "code",
      "source": [],
      "metadata": {
        "id": "pO0ww2nUztTA"
      },
      "execution_count": null,
      "outputs": []
    },
    {
      "cell_type": "code",
      "source": [
        "tf.random.set_seed(42)\n",
        "model_3 = tf.keras.Sequential([\n",
        "  tf.keras.layers.Dense(100, activation=\"relu\"),\n",
        "  tf.keras.layers.Dense(100, activation=\"relu\"),\n",
        "  tf.keras.layers.Dense(1, activation=\"sigmoid\")                         \n",
        "])\n",
        "\n",
        "model_3.compile(loss=tf.keras.losses.BinaryCrossentropy(),\n",
        "                optimizer=tf.keras.optimizers.Adam(learning_rate=0.001),\n",
        "                metrics=[\"accuracy\"])\n",
        "\n",
        "history = model_3.fit(X_train, y_train, epochs=30, verbose=0)"
      ],
      "metadata": {
        "id": "zekK3zDEELej"
      },
      "execution_count": null,
      "outputs": []
    },
    {
      "cell_type": "code",
      "source": [
        "model_3.evaluate(X_test, y_test)"
      ],
      "metadata": {
        "colab": {
          "base_uri": "https://localhost:8080/"
        },
        "id": "GXxgjm93EOPA",
        "outputId": "788ec18a-cf42-4d5a-f445-2c244d0d57c8"
      },
      "execution_count": null,
      "outputs": [
        {
          "output_type": "stream",
          "name": "stdout",
          "text": [
            "7/7 [==============================] - 0s 3ms/step - loss: 0.0303 - accuracy: 1.0000\n"
          ]
        },
        {
          "output_type": "execute_result",
          "data": {
            "text/plain": [
              "[0.030255937948822975, 1.0]"
            ]
          },
          "metadata": {},
          "execution_count": 19
        }
      ]
    },
    {
      "cell_type": "code",
      "source": [
        "pd.DataFrame(history.history).plot()\n",
        "plt.ylabel(\"loss\")\n",
        "plt.xlabel(\"epochs\")"
      ],
      "metadata": {
        "colab": {
          "base_uri": "https://localhost:8080/",
          "height": 296
        },
        "id": "UZRoeY5FEVF9",
        "outputId": "6c27a7d4-2e2c-403a-bb54-929ac71dba74"
      },
      "execution_count": null,
      "outputs": [
        {
          "output_type": "execute_result",
          "data": {
            "text/plain": [
              "Text(0.5, 0, 'epochs')"
            ]
          },
          "metadata": {},
          "execution_count": 20
        },
        {
          "output_type": "display_data",
          "data": {
            "text/plain": [
              "<Figure size 432x288 with 1 Axes>"
            ],
            "image/png": "[encoded data removed]"
          },
          "metadata": {
            "needs_background": "light"
          }
        }
      ]
    },
    {
      "cell_type": "code",
      "source": [
        "tf.random.set_seed(42)\n",
        "\n",
        "model_5 = tf.keras.Sequential([\n",
        "  tf.keras.layers.Dense(10, activation=\"relu\"),                             \n",
        "  tf.keras.layers.Dense(10, activation=\"relu\"),                             \n",
        "  tf.keras.layers.Dense(1, activation=\"sigmoid\")                             \n",
        "])\n",
        "\n",
        "model_5.compile(\n",
        "    loss=tf.keras.losses.BinaryCrossentropy(),\n",
        "    optimizer=tf.keras.optimizers.Adam(),\n",
        "    metrics=[\"accuracy\"])\n",
        "\n",
        "lr_scheduler=tf.keras.callbacks.LearningRateScheduler(lambda epoch:1e-5 * 10**(epoch/20))\n",
        "\n",
        "history_5 = model_5.fit(X_train,\n",
        "                        y_train,\n",
        "                        epochs=100,\n",
        "                        callbacks=[lr_scheduler])"
      ],
      "metadata": {
        "colab": {
          "base_uri": "https://localhost:8080/"
        },
        "id": "XpRBpNLmFP6M",
        "outputId": "98df9f1b-53d6-411a-8397-dee8fc323029"
      },
      "execution_count": null,
      "outputs": [
        {
          "output_type": "stream",
          "name": "stdout",
          "text": [
            "Epoch 1/100\n",
            "25/25 [==============================] - 1s 4ms/step - loss: 0.7081 - accuracy: 0.4988 - lr: 1.0000e-05\n",
            "Epoch 2/100\n",
            "25/25 [==============================] - 0s 3ms/step - loss: 0.7078 - accuracy: 0.4988 - lr: 1.1220e-05\n",
            "Epoch 3/100\n",
            "25/25 [==============================] - 0s 4ms/step - loss: 0.7076 - accuracy: 0.4988 - lr: 1.2589e-05\n",
            "Epoch 4/100\n",
            "25/25 [==============================] - 0s 3ms/step - loss: 0.7073 - accuracy: 0.4988 - lr: 1.4125e-05\n",
            "Epoch 5/100\n",
            "25/25 [==============================] - 0s 3ms/step - loss: 0.7069 - accuracy: 0.4988 - lr: 1.5849e-05\n",
            "Epoch 6/100\n",
            "25/25 [==============================] - 0s 4ms/step - loss: 0.7066 - accuracy: 0.4988 - lr: 1.7783e-05\n",
            "Epoch 7/100\n",
            "25/25 [==============================] - 0s 4ms/step - loss: 0.7062 - accuracy: 0.4988 - lr: 1.9953e-05\n",
            "Epoch 8/100\n",
            "25/25 [==============================] - 0s 5ms/step - loss: 0.7057 - accuracy: 0.4988 - lr: 2.2387e-05\n",
            "Epoch 9/100\n",
            "25/25 [==============================] - 0s 4ms/step - loss: 0.7052 - accuracy: 0.4988 - lr: 2.5119e-05\n",
            "Epoch 10/100\n",
            "25/25 [==============================] - 0s 5ms/step - loss: 0.7047 - accuracy: 0.4988 - lr: 2.8184e-05\n",
            "Epoch 11/100\n",
            "25/25 [==============================] - 0s 3ms/step - loss: 0.7041 - accuracy: 0.4988 - lr: 3.1623e-05\n",
            "Epoch 12/100\n",
            "25/25 [==============================] - 0s 4ms/step - loss: 0.7035 - accuracy: 0.4988 - lr: 3.5481e-05\n",
            "Epoch 13/100\n",
            "25/25 [==============================] - 0s 3ms/step - loss: 0.7028 - accuracy: 0.4988 - lr: 3.9811e-05\n",
            "Epoch 14/100\n",
            "25/25 [==============================] - 0s 3ms/step - loss: 0.7020 - accuracy: 0.4988 - lr: 4.4668e-05\n",
            "Epoch 15/100\n",
            "25/25 [==============================] - 0s 3ms/step - loss: 0.7012 - accuracy: 0.4988 - lr: 5.0119e-05\n",
            "Epoch 16/100\n",
            "25/25 [==============================] - 0s 4ms/step - loss: 0.7003 - accuracy: 0.4988 - lr: 5.6234e-05\n",
            "Epoch 17/100\n",
            "25/25 [==============================] - 0s 3ms/step - loss: 0.6993 - accuracy: 0.4988 - lr: 6.3096e-05\n",
            "Epoch 18/100\n",
            "25/25 [==============================] - 0s 3ms/step - loss: 0.6983 - accuracy: 0.4988 - lr: 7.0795e-05\n",
            "Epoch 19/100\n",
            "25/25 [==============================] - 0s 3ms/step - loss: 0.6972 - accuracy: 0.4988 - lr: 7.9433e-05\n",
            "Epoch 20/100\n",
            "25/25 [==============================] - 0s 3ms/step - loss: 0.6961 - accuracy: 0.4988 - lr: 8.9125e-05\n",
            "Epoch 21/100\n",
            "25/25 [==============================] - 0s 3ms/step - loss: 0.6949 - accuracy: 0.4988 - lr: 1.0000e-04\n",
            "Epoch 22/100\n",
            "25/25 [==============================] - 0s 5ms/step - loss: 0.6936 - accuracy: 0.4988 - lr: 1.1220e-04\n",
            "Epoch 23/100\n",
            "25/25 [==============================] - 0s 3ms/step - loss: 0.6924 - accuracy: 0.4988 - lr: 1.2589e-04\n",
            "Epoch 24/100\n",
            "25/25 [==============================] - 0s 3ms/step - loss: 0.6911 - accuracy: 0.4988 - lr: 1.4125e-04\n",
            "Epoch 25/100\n",
            "25/25 [==============================] - 0s 4ms/step - loss: 0.6897 - accuracy: 0.4988 - lr: 1.5849e-04\n",
            "Epoch 26/100\n",
            "25/25 [==============================] - 0s 4ms/step - loss: 0.6885 - accuracy: 0.4988 - lr: 1.7783e-04\n",
            "Epoch 27/100\n",
            "25/25 [==============================] - 0s 4ms/step - loss: 0.6871 - accuracy: 0.4988 - lr: 1.9953e-04\n",
            "Epoch 28/100\n",
            "25/25 [==============================] - 0s 4ms/step - loss: 0.6859 - accuracy: 0.4988 - lr: 2.2387e-04\n",
            "Epoch 29/100\n",
            "25/25 [==============================] - 0s 3ms/step - loss: 0.6845 - accuracy: 0.4988 - lr: 2.5119e-04\n",
            "Epoch 30/100\n",
            "25/25 [==============================] - 0s 4ms/step - loss: 0.6833 - accuracy: 0.5100 - lr: 2.8184e-04\n",
            "Epoch 31/100\n",
            "25/25 [==============================] - 0s 3ms/step - loss: 0.6822 - accuracy: 0.5250 - lr: 3.1623e-04\n",
            "Epoch 32/100\n",
            "25/25 [==============================] - 0s 3ms/step - loss: 0.6810 - accuracy: 0.5337 - lr: 3.5481e-04\n",
            "Epoch 33/100\n",
            "25/25 [==============================] - 0s 2ms/step - loss: 0.6799 - accuracy: 0.5200 - lr: 3.9811e-04\n",
            "Epoch 34/100\n",
            "25/25 [==============================] - 0s 2ms/step - loss: 0.6787 - accuracy: 0.5263 - lr: 4.4668e-04\n",
            "Epoch 35/100\n",
            "25/25 [==============================] - 0s 2ms/step - loss: 0.6775 - accuracy: 0.5238 - lr: 5.0119e-04\n",
            "Epoch 36/100\n",
            "25/25 [==============================] - 0s 2ms/step - loss: 0.6762 - accuracy: 0.5263 - lr: 5.6234e-04\n",
            "Epoch 37/100\n",
            "25/25 [==============================] - 0s 2ms/step - loss: 0.6751 - accuracy: 0.5263 - lr: 6.3096e-04\n",
            "Epoch 38/100\n",
            "25/25 [==============================] - 0s 2ms/step - loss: 0.6738 - accuracy: 0.5288 - lr: 7.0795e-04\n",
            "Epoch 39/100\n",
            "25/25 [==============================] - 0s 2ms/step - loss: 0.6725 - accuracy: 0.5288 - lr: 7.9433e-04\n",
            "Epoch 40/100\n",
            "25/25 [==============================] - 0s 2ms/step - loss: 0.6710 - accuracy: 0.5387 - lr: 8.9125e-04\n",
            "Epoch 41/100\n",
            "25/25 [==============================] - 0s 2ms/step - loss: 0.6693 - accuracy: 0.5412 - lr: 0.0010\n",
            "Epoch 42/100\n",
            "25/25 [==============================] - 0s 2ms/step - loss: 0.6679 - accuracy: 0.5512 - lr: 0.0011\n",
            "Epoch 43/100\n",
            "25/25 [==============================] - 0s 2ms/step - loss: 0.6650 - accuracy: 0.5900 - lr: 0.0013\n",
            "Epoch 44/100\n",
            "25/25 [==============================] - 0s 3ms/step - loss: 0.6621 - accuracy: 0.6162 - lr: 0.0014\n",
            "Epoch 45/100\n",
            "25/25 [==============================] - 0s 3ms/step - loss: 0.6583 - accuracy: 0.6625 - lr: 0.0016\n",
            "Epoch 46/100\n",
            "25/25 [==============================] - 0s 2ms/step - loss: 0.6533 - accuracy: 0.6812 - lr: 0.0018\n",
            "Epoch 47/100\n",
            "25/25 [==============================] - 0s 2ms/step - loss: 0.6472 - accuracy: 0.7113 - lr: 0.0020\n",
            "Epoch 48/100\n",
            "25/25 [==============================] - 0s 2ms/step - loss: 0.6398 - accuracy: 0.7113 - lr: 0.0022\n",
            "Epoch 49/100\n",
            "25/25 [==============================] - 0s 2ms/step - loss: 0.6287 - accuracy: 0.8213 - lr: 0.0025\n",
            "Epoch 50/100\n",
            "25/25 [==============================] - 0s 2ms/step - loss: 0.6143 - accuracy: 0.8238 - lr: 0.0028\n",
            "Epoch 51/100\n",
            "25/25 [==============================] - 0s 2ms/step - loss: 0.5877 - accuracy: 0.8575 - lr: 0.0032\n",
            "Epoch 52/100\n",
            "25/25 [==============================] - 0s 2ms/step - loss: 0.5489 - accuracy: 0.8925 - lr: 0.0035\n",
            "Epoch 53/100\n",
            "25/25 [==============================] - 0s 2ms/step - loss: 0.4918 - accuracy: 0.9375 - lr: 0.0040\n",
            "Epoch 54/100\n",
            "25/25 [==============================] - 0s 2ms/step - loss: 0.4179 - accuracy: 0.9625 - lr: 0.0045\n",
            "Epoch 55/100\n",
            "25/25 [==============================] - 0s 2ms/step - loss: 0.3232 - accuracy: 0.9762 - lr: 0.0050\n",
            "Epoch 56/100\n",
            "25/25 [==============================] - 0s 2ms/step - loss: 0.2339 - accuracy: 0.9850 - lr: 0.0056\n",
            "Epoch 57/100\n",
            "25/25 [==============================] - 0s 3ms/step - loss: 0.1581 - accuracy: 0.9900 - lr: 0.0063\n",
            "Epoch 58/100\n",
            "25/25 [==============================] - 0s 2ms/step - loss: 0.1136 - accuracy: 0.9925 - lr: 0.0071\n",
            "Epoch 59/100\n",
            "25/25 [==============================] - 0s 3ms/step - loss: 0.0792 - accuracy: 0.9975 - lr: 0.0079\n",
            "Epoch 60/100\n",
            "25/25 [==============================] - 0s 2ms/step - loss: 0.0538 - accuracy: 0.9962 - lr: 0.0089\n",
            "Epoch 61/100\n",
            "25/25 [==============================] - 0s 2ms/step - loss: 0.0422 - accuracy: 0.9975 - lr: 0.0100\n",
            "Epoch 62/100\n",
            "25/25 [==============================] - 0s 2ms/step - loss: 0.0325 - accuracy: 0.9987 - lr: 0.0112\n",
            "Epoch 63/100\n",
            "25/25 [==============================] - 0s 2ms/step - loss: 0.0312 - accuracy: 0.9975 - lr: 0.0126\n",
            "Epoch 64/100\n",
            "25/25 [==============================] - 0s 2ms/step - loss: 0.0251 - accuracy: 0.9987 - lr: 0.0141\n",
            "Epoch 65/100\n",
            "25/25 [==============================] - 0s 2ms/step - loss: 0.0281 - accuracy: 0.9937 - lr: 0.0158\n",
            "Epoch 66/100\n",
            "25/25 [==============================] - 0s 2ms/step - loss: 0.0306 - accuracy: 0.9950 - lr: 0.0178\n",
            "Epoch 67/100\n",
            "25/25 [==============================] - 0s 2ms/step - loss: 0.0191 - accuracy: 0.9975 - lr: 0.0200\n",
            "Epoch 68/100\n",
            "25/25 [==============================] - 0s 2ms/step - loss: 0.0279 - accuracy: 0.9912 - lr: 0.0224\n",
            "Epoch 69/100\n",
            "25/25 [==============================] - 0s 2ms/step - loss: 0.0320 - accuracy: 0.9875 - lr: 0.0251\n",
            "Epoch 70/100\n",
            "25/25 [==============================] - 0s 3ms/step - loss: 0.1336 - accuracy: 0.9525 - lr: 0.0282\n",
            "Epoch 71/100\n",
            "25/25 [==============================] - 0s 3ms/step - loss: 0.0639 - accuracy: 0.9812 - lr: 0.0316\n",
            "Epoch 72/100\n",
            "25/25 [==============================] - 0s 6ms/step - loss: 0.0945 - accuracy: 0.9625 - lr: 0.0355\n",
            "Epoch 73/100\n",
            "25/25 [==============================] - 0s 7ms/step - loss: 0.4668 - accuracy: 0.8675 - lr: 0.0398\n",
            "Epoch 74/100\n",
            "25/25 [==============================] - 0s 5ms/step - loss: 0.3712 - accuracy: 0.8775 - lr: 0.0447\n",
            "Epoch 75/100\n",
            "25/25 [==============================] - 0s 6ms/step - loss: 0.1035 - accuracy: 0.9750 - lr: 0.0501\n",
            "Epoch 76/100\n",
            "25/25 [==============================] - 0s 6ms/step - loss: 0.0374 - accuracy: 0.9900 - lr: 0.0562\n",
            "Epoch 77/100\n",
            "25/25 [==============================] - 0s 4ms/step - loss: 0.0194 - accuracy: 0.9987 - lr: 0.0631\n",
            "Epoch 78/100\n",
            "25/25 [==============================] - 0s 4ms/step - loss: 0.0125 - accuracy: 1.0000 - lr: 0.0708\n",
            "Epoch 79/100\n",
            "25/25 [==============================] - 0s 4ms/step - loss: 0.0225 - accuracy: 0.9925 - lr: 0.0794\n",
            "Epoch 80/100\n",
            "25/25 [==============================] - 0s 4ms/step - loss: 0.0294 - accuracy: 0.9875 - lr: 0.0891\n",
            "Epoch 81/100\n",
            "25/25 [==============================] - 0s 3ms/step - loss: 0.0813 - accuracy: 0.9750 - lr: 0.1000\n",
            "Epoch 82/100\n",
            "25/25 [==============================] - 0s 4ms/step - loss: 0.2913 - accuracy: 0.9000 - lr: 0.1122\n",
            "Epoch 83/100\n",
            "25/25 [==============================] - 0s 4ms/step - loss: 0.2051 - accuracy: 0.9112 - lr: 0.1259\n",
            "Epoch 84/100\n",
            "25/25 [==============================] - 0s 4ms/step - loss: 0.0502 - accuracy: 0.9800 - lr: 0.1413\n",
            "Epoch 85/100\n",
            "25/25 [==============================] - 0s 5ms/step - loss: 0.2463 - accuracy: 0.9262 - lr: 0.1585\n",
            "Epoch 86/100\n",
            "25/25 [==============================] - 0s 4ms/step - loss: 0.2011 - accuracy: 0.9150 - lr: 0.1778\n",
            "Epoch 87/100\n",
            "25/25 [==============================] - 0s 4ms/step - loss: 0.2521 - accuracy: 0.8988 - lr: 0.1995\n",
            "Epoch 88/100\n",
            "25/25 [==============================] - 0s 4ms/step - loss: 0.2634 - accuracy: 0.8788 - lr: 0.2239\n",
            "Epoch 89/100\n",
            "25/25 [==============================] - 0s 4ms/step - loss: 0.1341 - accuracy: 0.9525 - lr: 0.2512\n",
            "Epoch 90/100\n",
            "25/25 [==============================] - 0s 5ms/step - loss: 0.1593 - accuracy: 0.9463 - lr: 0.2818\n",
            "Epoch 91/100\n",
            "25/25 [==============================] - 0s 3ms/step - loss: 0.1347 - accuracy: 0.9563 - lr: 0.3162\n",
            "Epoch 92/100\n",
            "25/25 [==============================] - 0s 3ms/step - loss: 0.3008 - accuracy: 0.9087 - lr: 0.3548\n",
            "Epoch 93/100\n",
            "25/25 [==============================] - 0s 2ms/step - loss: 0.3773 - accuracy: 0.8600 - lr: 0.3981\n",
            "Epoch 94/100\n",
            "25/25 [==============================] - 0s 3ms/step - loss: 0.4023 - accuracy: 0.8313 - lr: 0.4467\n",
            "Epoch 95/100\n",
            "25/25 [==============================] - 0s 3ms/step - loss: 0.4828 - accuracy: 0.7837 - lr: 0.5012\n",
            "Epoch 96/100\n",
            "25/25 [==============================] - 0s 4ms/step - loss: 0.5347 - accuracy: 0.7000 - lr: 0.5623\n",
            "Epoch 97/100\n",
            "25/25 [==============================] - 0s 4ms/step - loss: 0.5595 - accuracy: 0.7287 - lr: 0.6310\n",
            "Epoch 98/100\n",
            "25/25 [==============================] - 0s 4ms/step - loss: 0.6083 - accuracy: 0.6675 - lr: 0.7079\n",
            "Epoch 99/100\n",
            "25/25 [==============================] - 0s 5ms/step - loss: 0.8310 - accuracy: 0.5238 - lr: 0.7943\n",
            "Epoch 100/100\n",
            "25/25 [==============================] - 0s 6ms/step - loss: 0.7187 - accuracy: 0.4938 - lr: 0.8913\n"
          ]
        }
      ]
    },
    {
      "cell_type": "code",
      "source": [
        "pd.DataFrame(history_5.history).plot()\n",
        "plt.xlabel(\"epochs\")"
      ],
      "metadata": {
        "colab": {
          "base_uri": "https://localhost:8080/",
          "height": 296
        },
        "id": "L1XX0zjNJTVn",
        "outputId": "26f1363d-a736-4668-d1b6-83d8cf000ac8"
      },
      "execution_count": null,
      "outputs": [
        {
          "output_type": "execute_result",
          "data": {
            "text/plain": [
              "Text(0.5, 0, 'epochs')"
            ]
          },
          "metadata": {},
          "execution_count": 22
        },
        {
          "output_type": "display_data",
          "data": {
            "text/plain": [
              "<Figure size 432x288 with 1 Axes>"
            ],
            "image/png": "[encoded data removed]"
          },
          "metadata": {
            "needs_background": "light"
          }
        }
      ]
    },
    {
      "cell_type": "code",
      "source": [
        "lrs = 1e-4 * (10 ** (tf.range(100)/20))\n",
        "plt.figure(figsize=(10, 7))\n",
        "plt.semilogx(lrs, history_5.history[\"loss\"])\n",
        "plt.xlabel(\"Learning Rate\")\n",
        "plt.ylabel(\"Loss\");\n"
      ],
      "metadata": {
        "colab": {
          "base_uri": "https://localhost:8080/",
          "height": 446
        },
        "id": "WMSVDw03MLbO",
        "outputId": "1bb5a5ea-a9cc-43e0-fe2d-ce5292b64cf6"
      },
      "execution_count": null,
      "outputs": [
        {
          "output_type": "display_data",
          "data": {
            "text/plain": [
              "<Figure size 720x504 with 1 Axes>"
            ],
            "image/png": "[encoded data removed]"
          },
          "metadata": {
            "needs_background": "light"
          }
        }
      ]
    },
    {
      "cell_type": "markdown",
      "source": [
        "## Classification evaluation methods\n",
        "\n",
        "* Accuracy\n",
        "* Precision\n",
        "* Recall\n",
        "* F1\n",
        "* Confusion matrix"
      ],
      "metadata": {
        "id": "-fnwyppSM6pN"
      }
    },
    {
      "cell_type": "code",
      "source": [
        "loss, accuracy = model_3.evaluate(X_test, y_test)\n",
        "print(\"Loss:\", loss)\n",
        "print(f\"Accuracy:, {(accuracy*100):.2f}%\")"
      ],
      "metadata": {
        "id": "hKHJffx_cILd",
        "colab": {
          "base_uri": "https://localhost:8080/"
        },
        "outputId": "4930622d-ea65-4a79-ae05-a6138579be26"
      },
      "execution_count": null,
      "outputs": [
        {
          "output_type": "stream",
          "name": "stdout",
          "text": [
            "7/7 [==============================] - 0s 4ms/step - loss: 0.0303 - accuracy: 1.0000\n",
            "Loss: 0.030255937948822975\n",
            "Accuracy:, 100.00%\n"
          ]
        }
      ]
    },
    {
      "cell_type": "markdown",
      "source": [
        "## Confusion Matrix"
      ],
      "metadata": {
        "id": "ARD9jwDOxZLt"
      }
    },
    {
      "cell_type": "code",
      "source": [
        "from sklearn.metrics import confusion_matrix\n",
        "\n",
        "y_preds = model_3.predict(X_test)\n",
        "\n",
        "confusion_matrix(y_test, tf.round(y_preds))"
      ],
      "metadata": {
        "colab": {
          "base_uri": "https://localhost:8080/"
        },
        "id": "YBWasIASx_8P",
        "outputId": "40974c60-04e1-4f2a-e15b-7e61c01a84bb"
      },
      "execution_count": null,
      "outputs": [
        {
          "output_type": "execute_result",
          "data": {
            "text/plain": [
              "array([[101,   0],\n",
              "       [  0,  99]])"
            ]
          },
          "metadata": {},
          "execution_count": 25
        }
      ]
    },
    {
      "cell_type": "code",
      "source": [
        "import itertools\n",
        "\n",
        "figsize = (10, 10)\n",
        "cm = confusion_matrix(y_test, tf.round(y_preds))\n",
        "cm_norm = cm.astype(\"float\")/cm.sum(axis=1)[:, np.newaxis] #normalize cm\n",
        "n_classes = cm.shape[0]\n",
        "\n",
        "fig, ax = plt.subplots(figsize=figsize)\n",
        "cax = ax.matshow(cm, cmap=plt.cm.Blues)\n",
        "fig.colorbar(cax)\n",
        "\n",
        "classes = False\n",
        "\n",
        "if classes:\n",
        "  labels = classes\n",
        "else:\n",
        "  labels = np.arange(cm.shape[0])\n",
        "\n",
        "ax.set(title=\"Confusion Matrix\",\n",
        "       xlabel=\"Predicted Label\",\n",
        "       ylabel=\"True Label\",\n",
        "       xticks=np.arange(n_classes),\n",
        "       yticks=np.arange(n_classes),\n",
        "       xticklabels=labels,\n",
        "       yticklabels=labels)\n",
        "\n",
        "threshold = (cm.max() + cm.min())/2\n",
        "\n",
        "for i, j in itertools.product(range(cm.shape[0]), range(cm.shape[1])):\n",
        "  plt.text(j, i, f\"{cm[i, j]} ({cm_norm[i, j]*100:.1f}%)\",\n",
        "           horizontalalignment=\"center\",\n",
        "           color=\"white\" if cm[i, j] > threshold else \"black\",\n",
        "           size=15)"
      ],
      "metadata": {
        "colab": {
          "base_uri": "https://localhost:8080/",
          "height": 580
        },
        "id": "Yn8SndfI0jqn",
        "outputId": "5d4df6cb-2af8-421f-e50c-7d8b264bf106"
      },
      "execution_count": null,
      "outputs": [
        {
          "output_type": "display_data",
          "data": {
            "text/plain": [
              "<Figure size 720x720 with 2 Axes>"
            ],
            "image/png": "[encoded data removed]"
          },
          "metadata": {
            "needs_background": "light"
          }
        }
      ]
    },
    {
      "cell_type": "code",
      "source": [
        "cm_norm"
      ],
      "metadata": {
        "colab": {
          "base_uri": "https://localhost:8080/"
        },
        "id": "2KIRvA8x1ioc",
        "outputId": "3fb70e44-d7c4-4426-c805-b6df28e75c48"
      },
      "execution_count": null,
      "outputs": [
        {
          "output_type": "execute_result",
          "data": {
            "text/plain": [
              "array([[1., 0.],\n",
              "       [0., 1.]])"
            ]
          },
          "metadata": {},
          "execution_count": 27
        }
      ]
    },
    {
      "cell_type": "markdown",
      "source": [
        "# Working with multiclass classification"
      ],
      "metadata": {
        "id": "nO8WLzy71o6T"
      }
    },
    {
      "cell_type": "code",
      "source": [
        "from tensorflow.keras.datasets import fashion_mnist"
      ],
      "metadata": {
        "id": "n-ofFzd8ahRR"
      },
      "execution_count": null,
      "outputs": []
    },
    {
      "cell_type": "code",
      "source": [
        "(train_data, train_labels), (test_data, test_labels) = fashion_mnist.load_data()"
      ],
      "metadata": {
        "colab": {
          "base_uri": "https://localhost:8080/"
        },
        "id": "IohpVtnxbbGn",
        "outputId": "bb2b2578-790a-444a-b81c-b5ffd53de2e7"
      },
      "execution_count": null,
      "outputs": [
        {
          "output_type": "stream",
          "name": "stdout",
          "text": [
            "Downloading data from https://storage.googleapis.com/tensorflow/tf-keras-datasets/train-labels-idx1-ubyte.gz\n",
            "32768/29515 [=================================] - 0s 0us/step\n",
            "40960/29515 [=========================================] - 0s 0us/step\n",
            "Downloading data from https://storage.googleapis.com/tensorflow/tf-keras-datasets/train-images-idx3-ubyte.gz\n",
            "26427392/26421880 [==============================] - 0s 0us/step\n",
            "26435584/26421880 [==============================] - 0s 0us/step\n",
            "Downloading data from https://storage.googleapis.com/tensorflow/tf-keras-datasets/t10k-labels-idx1-ubyte.gz\n",
            "16384/5148 [===============================================================================================] - 0s 0us/step\n",
            "Downloading data from https://storage.googleapis.com/tensorflow/tf-keras-datasets/t10k-images-idx3-ubyte.gz\n",
            "4423680/4422102 [==============================] - 0s 0us/step\n",
            "4431872/4422102 [==============================] - 0s 0us/step\n"
          ]
        }
      ]
    },
    {
      "cell_type": "code",
      "source": [
        "print(train_labels[0])\n",
        "print(train_data[0])"
      ],
      "metadata": {
        "colab": {
          "base_uri": "https://localhost:8080/"
        },
        "id": "dsbB5RrDbk01",
        "outputId": "d30b6c89-e44d-4219-d26f-060780a583dd"
      },
      "execution_count": null,
      "outputs": [
        {
          "output_type": "stream",
          "name": "stdout",
          "text": [
            "9\n",
            "[[  0   0   0   0   0   0   0   0   0   0   0   0   0   0   0   0   0   0\n",
            "    0   0   0   0   0   0   0   0   0   0]\n",
            " [  0   0   0   0   0   0   0   0   0   0   0   0   0   0   0   0   0   0\n",
            "    0   0   0   0   0   0   0   0   0   0]\n",
            " [  0   0   0   0   0   0   0   0   0   0   0   0   0   0   0   0   0   0\n",
            "    0   0   0   0   0   0   0   0   0   0]\n",
            " [  0   0   0   0   0   0   0   0   0   0   0   0   1   0   0  13  73   0\n",
            "    0   1   4   0   0   0   0   1   1   0]\n",
            " [  0   0   0   0   0   0   0   0   0   0   0   0   3   0  36 136 127  62\n",
            "   54   0   0   0   1   3   4   0   0   3]\n",
            " [  0   0   0   0   0   0   0   0   0   0   0   0   6   0 102 204 176 134\n",
            "  144 123  23   0   0   0   0  12  10   0]\n",
            " [  0   0   0   0   0   0   0   0   0   0   0   0   0   0 155 236 207 178\n",
            "  107 156 161 109  64  23  77 130  72  15]\n",
            " [  0   0   0   0   0   0   0   0   0   0   0   1   0  69 207 223 218 216\n",
            "  216 163 127 121 122 146 141  88 172  66]\n",
            " [  0   0   0   0   0   0   0   0   0   1   1   1   0 200 232 232 233 229\n",
            "  223 223 215 213 164 127 123 196 229   0]\n",
            " [  0   0   0   0   0   0   0   0   0   0   0   0   0 183 225 216 223 228\n",
            "  235 227 224 222 224 221 223 245 173   0]\n",
            " [  0   0   0   0   0   0   0   0   0   0   0   0   0 193 228 218 213 198\n",
            "  180 212 210 211 213 223 220 243 202   0]\n",
            " [  0   0   0   0   0   0   0   0   0   1   3   0  12 219 220 212 218 192\n",
            "  169 227 208 218 224 212 226 197 209  52]\n",
            " [  0   0   0   0   0   0   0   0   0   0   6   0  99 244 222 220 218 203\n",
            "  198 221 215 213 222 220 245 119 167  56]\n",
            " [  0   0   0   0   0   0   0   0   0   4   0   0  55 236 228 230 228 240\n",
            "  232 213 218 223 234 217 217 209  92   0]\n",
            " [  0   0   1   4   6   7   2   0   0   0   0   0 237 226 217 223 222 219\n",
            "  222 221 216 223 229 215 218 255  77   0]\n",
            " [  0   3   0   0   0   0   0   0   0  62 145 204 228 207 213 221 218 208\n",
            "  211 218 224 223 219 215 224 244 159   0]\n",
            " [  0   0   0   0  18  44  82 107 189 228 220 222 217 226 200 205 211 230\n",
            "  224 234 176 188 250 248 233 238 215   0]\n",
            " [  0  57 187 208 224 221 224 208 204 214 208 209 200 159 245 193 206 223\n",
            "  255 255 221 234 221 211 220 232 246   0]\n",
            " [  3 202 228 224 221 211 211 214 205 205 205 220 240  80 150 255 229 221\n",
            "  188 154 191 210 204 209 222 228 225   0]\n",
            " [ 98 233 198 210 222 229 229 234 249 220 194 215 217 241  65  73 106 117\n",
            "  168 219 221 215 217 223 223 224 229  29]\n",
            " [ 75 204 212 204 193 205 211 225 216 185 197 206 198 213 240 195 227 245\n",
            "  239 223 218 212 209 222 220 221 230  67]\n",
            " [ 48 203 183 194 213 197 185 190 194 192 202 214 219 221 220 236 225 216\n",
            "  199 206 186 181 177 172 181 205 206 115]\n",
            " [  0 122 219 193 179 171 183 196 204 210 213 207 211 210 200 196 194 191\n",
            "  195 191 198 192 176 156 167 177 210  92]\n",
            " [  0   0  74 189 212 191 175 172 175 181 185 188 189 188 193 198 204 209\n",
            "  210 210 211 188 188 194 192 216 170   0]\n",
            " [  2   0   0   0  66 200 222 237 239 242 246 243 244 221 220 193 191 179\n",
            "  182 182 181 176 166 168  99  58   0   0]\n",
            " [  0   0   0   0   0   0   0  40  61  44  72  41  35   0   0   0   0   0\n",
            "    0   0   0   0   0   0   0   0   0   0]\n",
            " [  0   0   0   0   0   0   0   0   0   0   0   0   0   0   0   0   0   0\n",
            "    0   0   0   0   0   0   0   0   0   0]\n",
            " [  0   0   0   0   0   0   0   0   0   0   0   0   0   0   0   0   0   0\n",
            "    0   0   0   0   0   0   0   0   0   0]]\n"
          ]
        }
      ]
    },
    {
      "cell_type": "code",
      "source": [
        "train_data[0].shape"
      ],
      "metadata": {
        "colab": {
          "base_uri": "https://localhost:8080/"
        },
        "id": "xs3HrRIgbvfc",
        "outputId": "bce9c404-e001-41e8-8cce-d58805b02a5c"
      },
      "execution_count": null,
      "outputs": [
        {
          "output_type": "execute_result",
          "data": {
            "text/plain": [
              "(28, 28)"
            ]
          },
          "metadata": {},
          "execution_count": 31
        }
      ]
    },
    {
      "cell_type": "code",
      "source": [
        "plt.imshow(train_data[76])"
      ],
      "metadata": {
        "colab": {
          "base_uri": "https://localhost:8080/",
          "height": 282
        },
        "id": "9aXO6CmgcC8V",
        "outputId": "5dfe18d5-31fd-420d-e286-67700658f93d"
      },
      "execution_count": null,
      "outputs": [
        {
          "output_type": "execute_result",
          "data": {
            "text/plain": [
              "<matplotlib.image.AxesImage at 0x7f7ed84e15d0>"
            ]
          },
          "metadata": {},
          "execution_count": 32
        },
        {
          "output_type": "display_data",
          "data": {
            "text/plain": [
              "<Figure size 432x288 with 1 Axes>"
            ],
            "image/png": "[encoded data removed]"
          },
          "metadata": {
            "needs_background": "light"
          }
        }
      ]
    },
    {
      "cell_type": "code",
      "source": [
        "train_labels[76]"
      ],
      "metadata": {
        "colab": {
          "base_uri": "https://localhost:8080/"
        },
        "id": "AMSPIuGacGs0",
        "outputId": "0fd24f4a-030e-48d6-fe20-137691837f8d"
      },
      "execution_count": null,
      "outputs": [
        {
          "output_type": "execute_result",
          "data": {
            "text/plain": [
              "4"
            ]
          },
          "metadata": {},
          "execution_count": 33
        }
      ]
    },
    {
      "cell_type": "code",
      "source": [
        "class_names = [\n",
        "  \"T-shirt/top\",\n",
        "  \"Trouser\",\n",
        "  \"Pullover\",\n",
        "  \"Dress\",\n",
        "  \"Coat\",\n",
        "  \"Sandal\",\n",
        "  \"Shirt\",\n",
        "  \"Sneaker\",\n",
        "  \"Bag\",\n",
        "  \"Ankle boot\"]"
      ],
      "metadata": {
        "id": "VDKyriumcP0x"
      },
      "execution_count": null,
      "outputs": []
    },
    {
      "cell_type": "code",
      "source": [
        "idx = 30\n",
        "plt.imshow(train_data[idx], cmap=plt.cm.binary)\n",
        "plt.title(class_names[train_labels[idx]]);"
      ],
      "metadata": {
        "colab": {
          "base_uri": "https://localhost:8080/",
          "height": 281
        },
        "id": "TGMhnNUqc1QM",
        "outputId": "14df08c1-9a85-4277-bfbe-9dfa03aaec30"
      },
      "execution_count": null,
      "outputs": [
        {
          "output_type": "display_data",
          "data": {
            "text/plain": [
              "<Figure size 432x288 with 1 Axes>"
            ],
            "image/png": "[encoded data removed]"
          },
          "metadata": {
            "needs_background": "light"
          }
        }
      ]
    },
    {
      "cell_type": "code",
      "source": [
        "import random\n",
        "plt.figure(figsize=(7,7))\n",
        "for i in range(4):\n",
        "  ax = plt.subplot(2, 2, i+1)\n",
        "  rand_index = random.choice(range(len(train_data)))\n",
        "  plt.imshow(train_data[rand_index], cmap=plt.cm.binary)\n",
        "  plt.title(class_names[train_labels[rand_index]])\n",
        "  plt.axis(False)"
      ],
      "metadata": {
        "id": "SEcXl_QKdBZV",
        "colab": {
          "base_uri": "https://localhost:8080/",
          "height": 427
        },
        "outputId": "641122f2-0a88-4ee1-83d1-cfc290ff818c"
      },
      "execution_count": null,
      "outputs": [
        {
          "output_type": "display_data",
          "data": {
            "text/plain": [
              "<Figure size 504x504 with 4 Axes>"
            ],
            "image/png": "[encoded data removed]"
          },
          "metadata": {
            "needs_background": "light"
          }
        }
      ]
    },
    {
      "cell_type": "markdown",
      "source": [
        "## Building a multiclass classification model"
      ],
      "metadata": {
        "id": "JW4P44vOA160"
      }
    },
    {
      "cell_type": "code",
      "source": [
        "tf.random.set_seed(42)\n",
        "\n",
        "model_10 = tf.keras.Sequential([\n",
        "  tf.keras.layers.Flatten(input_shape=(28, 28)),\n",
        "  tf.keras.layers.Dense(100, activation=\"relu\"),\n",
        "  tf.keras.layers.Dense(100, activation=\"relu\"),\n",
        "  tf.keras.layers.Dense(10, activation=tf.keras.activations.softmax)\n",
        "])\n",
        "\n",
        "model_10.compile(loss=tf.keras.losses.CategoricalCrossentropy(),\n",
        "                 optimizer=tf.keras.optimizers.Adam(),\n",
        "                 metrics=['accuracy'])\n",
        "\n",
        "non_norm_history = model_10.fit(train_data,\n",
        "                                tf.one_hot(train_labels, 10),\n",
        "                                epochs=10,\n",
        "                                validation_data=(test_data, tf.one_hot(test_labels, 10)))"
      ],
      "metadata": {
        "colab": {
          "base_uri": "https://localhost:8080/"
        },
        "id": "5ANHbnFvBVW4",
        "outputId": "1caad4f3-931c-4a62-fb71-0ac750ca78af"
      },
      "execution_count": null,
      "outputs": [
        {
          "output_type": "stream",
          "name": "stdout",
          "text": [
            "Epoch 1/10\n",
            "1875/1875 [==============================] - 7s 3ms/step - loss: 2.3502 - accuracy: 0.7074 - val_loss: 0.7438 - val_accuracy: 0.7420\n",
            "Epoch 2/10\n",
            "1875/1875 [==============================] - 5s 3ms/step - loss: 0.6881 - accuracy: 0.7655 - val_loss: 0.6932 - val_accuracy: 0.7877\n",
            "Epoch 3/10\n",
            "1875/1875 [==============================] - 5s 3ms/step - loss: 0.6318 - accuracy: 0.7878 - val_loss: 0.6930 - val_accuracy: 0.7658\n",
            "Epoch 4/10\n",
            "1875/1875 [==============================] - 5s 3ms/step - loss: 0.5771 - accuracy: 0.8074 - val_loss: 0.5794 - val_accuracy: 0.8020\n",
            "Epoch 5/10\n",
            "1875/1875 [==============================] - 5s 3ms/step - loss: 0.5311 - accuracy: 0.8200 - val_loss: 0.5867 - val_accuracy: 0.8138\n",
            "Epoch 6/10\n",
            "1875/1875 [==============================] - 5s 3ms/step - loss: 0.4874 - accuracy: 0.8327 - val_loss: 0.5550 - val_accuracy: 0.8122\n",
            "Epoch 7/10\n",
            "1875/1875 [==============================] - 5s 3ms/step - loss: 0.4586 - accuracy: 0.8423 - val_loss: 0.5174 - val_accuracy: 0.8078\n",
            "Epoch 8/10\n",
            "1875/1875 [==============================] - 5s 3ms/step - loss: 0.4320 - accuracy: 0.8497 - val_loss: 0.4845 - val_accuracy: 0.8405\n",
            "Epoch 9/10\n",
            "1875/1875 [==============================] - 5s 3ms/step - loss: 0.4161 - accuracy: 0.8543 - val_loss: 0.4681 - val_accuracy: 0.8445\n",
            "Epoch 10/10\n",
            "1875/1875 [==============================] - 5s 3ms/step - loss: 0.4142 - accuracy: 0.8553 - val_loss: 0.4669 - val_accuracy: 0.8396\n"
          ]
        }
      ]
    },
    {
      "cell_type": "code",
      "source": [
        "tf.one_hot(train_labels, 10)"
      ],
      "metadata": {
        "colab": {
          "base_uri": "https://localhost:8080/"
        },
        "id": "bw9rt5f7I4e_",
        "outputId": "d46b2537-1eb0-416f-be8b-bb7d6c1cb48e"
      },
      "execution_count": null,
      "outputs": [
        {
          "output_type": "execute_result",
          "data": {
            "text/plain": [
              "<tf.Tensor: shape=(60000, 10), dtype=float32, numpy=\n",
              "array([[0., 0., 0., ..., 0., 0., 1.],\n",
              "       [1., 0., 0., ..., 0., 0., 0.],\n",
              "       [1., 0., 0., ..., 0., 0., 0.],\n",
              "       ...,\n",
              "       [0., 0., 0., ..., 0., 0., 0.],\n",
              "       [1., 0., 0., ..., 0., 0., 0.],\n",
              "       [0., 0., 0., ..., 0., 0., 0.]], dtype=float32)>"
            ]
          },
          "metadata": {},
          "execution_count": 52
        }
      ]
    },
    {
      "cell_type": "code",
      "source": [
        "train_data_norm = train_data/255\n",
        "test_data_norm = test_data/255"
      ],
      "metadata": {
        "id": "Y3a-0wicN5hs"
      },
      "execution_count": null,
      "outputs": []
    },
    {
      "cell_type": "code",
      "source": [
        "#Normalising data\n",
        "\n",
        "tf.random.set_seed(42)\n",
        "\n",
        "model_11 = tf.keras.Sequential([\n",
        "  tf.keras.layers.Flatten(input_shape=(28, 28)),\n",
        "  tf.keras.layers.Dense(100, activation=\"relu\"),\n",
        "  tf.keras.layers.Dense(100, activation=\"relu\"),\n",
        "  tf.keras.layers.Dense(10, activation=tf.keras.activations.softmax)\n",
        "])\n",
        "\n",
        "model_11.compile(loss=tf.keras.losses.CategoricalCrossentropy(),\n",
        "                 optimizer=tf.keras.optimizers.Adam(),\n",
        "                 metrics=[\"accuracy\"])\n",
        "\n",
        "norm_history = model_11.fit(train_data_norm,\n",
        "                            tf.one_hot(train_labels, depth=10),\n",
        "                            epochs=10,\n",
        "                            validation_data=(test_data_norm, tf.one_hot(test_labels, depth=10)))"
      ],
      "metadata": {
        "colab": {
          "base_uri": "https://localhost:8080/"
        },
        "id": "jVWhTaH0KJqe",
        "outputId": "94f714bb-122e-471e-f989-fd7d78b346ca"
      },
      "execution_count": null,
      "outputs": [
        {
          "output_type": "stream",
          "name": "stdout",
          "text": [
            "Epoch 1/10\n",
            "1875/1875 [==============================] - 6s 3ms/step - loss: 0.4911 - accuracy: 0.8258 - val_loss: 0.4091 - val_accuracy: 0.8541\n",
            "Epoch 2/10\n",
            "1875/1875 [==============================] - 5s 3ms/step - loss: 0.3655 - accuracy: 0.8672 - val_loss: 0.4528 - val_accuracy: 0.8426\n",
            "Epoch 3/10\n",
            "1875/1875 [==============================] - 5s 3ms/step - loss: 0.3321 - accuracy: 0.8767 - val_loss: 0.3865 - val_accuracy: 0.8567\n",
            "Epoch 4/10\n",
            "1875/1875 [==============================] - 5s 3ms/step - loss: 0.3093 - accuracy: 0.8856 - val_loss: 0.3643 - val_accuracy: 0.8688\n",
            "Epoch 5/10\n",
            "1875/1875 [==============================] - 5s 3ms/step - loss: 0.2932 - accuracy: 0.8911 - val_loss: 0.3500 - val_accuracy: 0.8744\n",
            "Epoch 6/10\n",
            "1875/1875 [==============================] - 5s 3ms/step - loss: 0.2772 - accuracy: 0.8957 - val_loss: 0.3740 - val_accuracy: 0.8625\n",
            "Epoch 7/10\n",
            "1875/1875 [==============================] - 5s 3ms/step - loss: 0.2680 - accuracy: 0.8999 - val_loss: 0.3647 - val_accuracy: 0.8724\n",
            "Epoch 8/10\n",
            "1875/1875 [==============================] - 5s 3ms/step - loss: 0.2569 - accuracy: 0.9033 - val_loss: 0.3388 - val_accuracy: 0.8829\n",
            "Epoch 9/10\n",
            "1875/1875 [==============================] - 5s 3ms/step - loss: 0.2470 - accuracy: 0.9071 - val_loss: 0.3359 - val_accuracy: 0.8873\n",
            "Epoch 10/10\n",
            "1875/1875 [==============================] - 6s 3ms/step - loss: 0.2379 - accuracy: 0.9097 - val_loss: 0.3409 - val_accuracy: 0.8805\n"
          ]
        }
      ]
    },
    {
      "cell_type": "code",
      "source": [
        "pd.DataFrame(non_norm_history.history).plot(title=\"Non-normalized Data\")\n",
        "pd.DataFrame(norm_history.history).plot(title=\"Normalized Data\");"
      ],
      "metadata": {
        "colab": {
          "base_uri": "https://localhost:8080/",
          "height": 545
        },
        "id": "09P6qjn8OfnB",
        "outputId": "cd3f7671-b084-407a-8a12-2507adca25b2"
      },
      "execution_count": null,
      "outputs": [
        {
          "output_type": "display_data",
          "data": {
            "text/plain": [
              "<Figure size 432x288 with 1 Axes>"
            ],
            "image/png": "[encoded data removed]"
          },
          "metadata": {
            "needs_background": "light"
          }
        },
        {
          "output_type": "display_data",
          "data": {
            "text/plain": [
              "<Figure size 432x288 with 1 Axes>"
            ],
            "image/png": "[encoded data removed]"
          },
          "metadata": {
            "needs_background": "light"
          }
        }
      ]
    },
    {
      "cell_type": "code",
      "source": [
        "plt.plot(range(len(non_norm_history.history[\"loss\"])), non_norm_history.history[\"loss\"], label=\"Non-normalized Data Loss\")\n",
        "plt.plot(range(len(norm_history.history[\"loss\"])), norm_history.history[\"loss\"], label=\"Normalized Data Loss\")\n",
        "plt.title(\"This is loss\")\n",
        "plt.legend()\n",
        "plt.show()"
      ],
      "metadata": {
        "colab": {
          "base_uri": "https://localhost:8080/",
          "height": 281
        },
        "id": "cWQhrsNsRkpK",
        "outputId": "99a38504-46ad-4ac9-bf82-423c5971c18a"
      },
      "execution_count": null,
      "outputs": [
        {
          "output_type": "display_data",
          "data": {
            "text/plain": [
              "<Figure size 432x288 with 1 Axes>"
            ],
            "image/png": "[encoded data removed]"
          },
          "metadata": {
            "needs_background": "light"
          }
        }
      ]
    },
    {
      "cell_type": "code",
      "source": [
        "tf.random.set_seed(42)\n",
        "\n",
        "model_12 = tf.keras.Sequential([\n",
        "  tf.keras.layers.Flatten(input_shape=(28, 28)),\n",
        "  tf.keras.layers.Dense(100, activation=\"relu\"),\n",
        "  tf.keras.layers.Dense(100, activation=\"relu\"),\n",
        "  tf.keras.layers.Dense(10, activation=tf.keras.activations.softmax)\n",
        "])\n",
        "\n",
        "model_12.compile(loss=tf.keras.losses.CategoricalCrossentropy(),\n",
        "                 optimizer=tf.keras.optimizers.Adam(),\n",
        "                 metrics=[\"accuracy\"])\n",
        "\n",
        "lr_scheduler=tf.keras.callbacks.LearningRateScheduler(lambda epoch:1e-4 * 10**(epoch/20))\n",
        "\n",
        "lr_history = model_12.fit(train_data_norm,\n",
        "                            tf.one_hot(train_labels, depth=10),\n",
        "                            epochs=40,\n",
        "                            validation_data=(test_data_norm, tf.one_hot(test_labels, depth=10)),\n",
        "                            callbacks=[lr_scheduler])"
      ],
      "metadata": {
        "colab": {
          "base_uri": "https://localhost:8080/"
        },
        "id": "EDDdew6sTuSF",
        "outputId": "49c371e0-2725-41b8-93ce-3d4efb8add55"
      },
      "execution_count": null,
      "outputs": [
        {
          "output_type": "stream",
          "name": "stdout",
          "text": [
            "Epoch 1/40\n",
            "1875/1875 [==============================] - 6s 3ms/step - loss: 0.6896 - accuracy: 0.7786 - val_loss: 0.5062 - val_accuracy: 0.8223 - lr: 1.0000e-04\n",
            "Epoch 2/40\n",
            "1875/1875 [==============================] - 5s 3ms/step - loss: 0.4503 - accuracy: 0.8443 - val_loss: 0.4604 - val_accuracy: 0.8362 - lr: 1.1220e-04\n",
            "Epoch 3/40\n",
            "1875/1875 [==============================] - 5s 3ms/step - loss: 0.4072 - accuracy: 0.8569 - val_loss: 0.4343 - val_accuracy: 0.8422 - lr: 1.2589e-04\n",
            "Epoch 4/40\n",
            "1875/1875 [==============================] - 7s 4ms/step - loss: 0.3782 - accuracy: 0.8669 - val_loss: 0.4070 - val_accuracy: 0.8547 - lr: 1.4125e-04\n",
            "Epoch 5/40\n",
            "1875/1875 [==============================] - 5s 3ms/step - loss: 0.3593 - accuracy: 0.8717 - val_loss: 0.4081 - val_accuracy: 0.8518 - lr: 1.5849e-04\n",
            "Epoch 6/40\n",
            "1875/1875 [==============================] - 5s 3ms/step - loss: 0.3426 - accuracy: 0.8771 - val_loss: 0.3987 - val_accuracy: 0.8562 - lr: 1.7783e-04\n",
            "Epoch 7/40\n",
            "1875/1875 [==============================] - 5s 3ms/step - loss: 0.3306 - accuracy: 0.8807 - val_loss: 0.3872 - val_accuracy: 0.8587 - lr: 1.9953e-04\n",
            "Epoch 8/40\n",
            "1875/1875 [==============================] - 5s 3ms/step - loss: 0.3176 - accuracy: 0.8854 - val_loss: 0.3670 - val_accuracy: 0.8664 - lr: 2.2387e-04\n",
            "Epoch 9/40\n",
            "1875/1875 [==============================] - 5s 3ms/step - loss: 0.3087 - accuracy: 0.8877 - val_loss: 0.3554 - val_accuracy: 0.8714 - lr: 2.5119e-04\n",
            "Epoch 10/40\n",
            "1875/1875 [==============================] - 5s 3ms/step - loss: 0.3016 - accuracy: 0.8898 - val_loss: 0.3719 - val_accuracy: 0.8642 - lr: 2.8184e-04\n",
            "Epoch 11/40\n",
            "1875/1875 [==============================] - 5s 3ms/step - loss: 0.2940 - accuracy: 0.8922 - val_loss: 0.3542 - val_accuracy: 0.8736 - lr: 3.1623e-04\n",
            "Epoch 12/40\n",
            "1875/1875 [==============================] - 6s 3ms/step - loss: 0.2864 - accuracy: 0.8951 - val_loss: 0.3500 - val_accuracy: 0.8744 - lr: 3.5481e-04\n",
            "Epoch 13/40\n",
            "1875/1875 [==============================] - 5s 3ms/step - loss: 0.2791 - accuracy: 0.8969 - val_loss: 0.3585 - val_accuracy: 0.8728 - lr: 3.9811e-04\n",
            "Epoch 14/40\n",
            "1875/1875 [==============================] - 5s 3ms/step - loss: 0.2737 - accuracy: 0.8993 - val_loss: 0.3355 - val_accuracy: 0.8809 - lr: 4.4668e-04\n",
            "Epoch 15/40\n",
            "1875/1875 [==============================] - 5s 3ms/step - loss: 0.2707 - accuracy: 0.8990 - val_loss: 0.3571 - val_accuracy: 0.8704 - lr: 5.0119e-04\n",
            "Epoch 16/40\n",
            "1875/1875 [==============================] - 5s 3ms/step - loss: 0.2645 - accuracy: 0.9019 - val_loss: 0.3684 - val_accuracy: 0.8674 - lr: 5.6234e-04\n",
            "Epoch 17/40\n",
            "1875/1875 [==============================] - 5s 3ms/step - loss: 0.2595 - accuracy: 0.9026 - val_loss: 0.3470 - val_accuracy: 0.8796 - lr: 6.3096e-04\n",
            "Epoch 18/40\n",
            "1875/1875 [==============================] - 5s 3ms/step - loss: 0.2603 - accuracy: 0.9031 - val_loss: 0.3297 - val_accuracy: 0.8818 - lr: 7.0795e-04\n",
            "Epoch 19/40\n",
            "1875/1875 [==============================] - 5s 3ms/step - loss: 0.2599 - accuracy: 0.9037 - val_loss: 0.3678 - val_accuracy: 0.8676 - lr: 7.9433e-04\n",
            "Epoch 20/40\n",
            "1875/1875 [==============================] - 5s 3ms/step - loss: 0.2551 - accuracy: 0.9054 - val_loss: 0.3584 - val_accuracy: 0.8807 - lr: 8.9125e-04\n",
            "Epoch 21/40\n",
            "1875/1875 [==============================] - 5s 3ms/step - loss: 0.2560 - accuracy: 0.9054 - val_loss: 0.3480 - val_accuracy: 0.8814 - lr: 0.0010\n",
            "Epoch 22/40\n",
            "1875/1875 [==============================] - 5s 3ms/step - loss: 0.2519 - accuracy: 0.9057 - val_loss: 0.3617 - val_accuracy: 0.8766 - lr: 0.0011\n",
            "Epoch 23/40\n",
            "1875/1875 [==============================] - 5s 3ms/step - loss: 0.2574 - accuracy: 0.9031 - val_loss: 0.4115 - val_accuracy: 0.8630 - lr: 0.0013\n",
            "Epoch 24/40\n",
            "1875/1875 [==============================] - 5s 3ms/step - loss: 0.2595 - accuracy: 0.9025 - val_loss: 0.3416 - val_accuracy: 0.8813 - lr: 0.0014\n",
            "Epoch 25/40\n",
            "1875/1875 [==============================] - 5s 3ms/step - loss: 0.2593 - accuracy: 0.9022 - val_loss: 0.3696 - val_accuracy: 0.8719 - lr: 0.0016\n",
            "Epoch 26/40\n",
            "1875/1875 [==============================] - 5s 3ms/step - loss: 0.2636 - accuracy: 0.9020 - val_loss: 0.3544 - val_accuracy: 0.8779 - lr: 0.0018\n",
            "Epoch 27/40\n",
            "1875/1875 [==============================] - 5s 3ms/step - loss: 0.2653 - accuracy: 0.9013 - val_loss: 0.3797 - val_accuracy: 0.8707 - lr: 0.0020\n",
            "Epoch 28/40\n",
            "1875/1875 [==============================] - 5s 3ms/step - loss: 0.2722 - accuracy: 0.8983 - val_loss: 0.4117 - val_accuracy: 0.8617 - lr: 0.0022\n",
            "Epoch 29/40\n",
            "1875/1875 [==============================] - 5s 3ms/step - loss: 0.2738 - accuracy: 0.8994 - val_loss: 0.3664 - val_accuracy: 0.8725 - lr: 0.0025\n",
            "Epoch 30/40\n",
            "1875/1875 [==============================] - 5s 3ms/step - loss: 0.2765 - accuracy: 0.8976 - val_loss: 0.4448 - val_accuracy: 0.8500 - lr: 0.0028\n",
            "Epoch 31/40\n",
            "1875/1875 [==============================] - 5s 3ms/step - loss: 0.2884 - accuracy: 0.8934 - val_loss: 0.4177 - val_accuracy: 0.8642 - lr: 0.0032\n",
            "Epoch 32/40\n",
            "1875/1875 [==============================] - 5s 3ms/step - loss: 0.2932 - accuracy: 0.8928 - val_loss: 0.3933 - val_accuracy: 0.8713 - lr: 0.0035\n",
            "Epoch 33/40\n",
            "1875/1875 [==============================] - 5s 3ms/step - loss: 0.2979 - accuracy: 0.8914 - val_loss: 0.4077 - val_accuracy: 0.8654 - lr: 0.0040\n",
            "Epoch 34/40\n",
            "1875/1875 [==============================] - 5s 3ms/step - loss: 0.3015 - accuracy: 0.8892 - val_loss: 0.4396 - val_accuracy: 0.8588 - lr: 0.0045\n",
            "Epoch 35/40\n",
            "1875/1875 [==============================] - 5s 3ms/step - loss: 0.3111 - accuracy: 0.8864 - val_loss: 0.4293 - val_accuracy: 0.8524 - lr: 0.0050\n",
            "Epoch 36/40\n",
            "1875/1875 [==============================] - 5s 3ms/step - loss: 0.3154 - accuracy: 0.8859 - val_loss: 0.3911 - val_accuracy: 0.8695 - lr: 0.0056\n",
            "Epoch 37/40\n",
            "1875/1875 [==============================] - 5s 3ms/step - loss: 0.3271 - accuracy: 0.8854 - val_loss: 0.4368 - val_accuracy: 0.8669 - lr: 0.0063\n",
            "Epoch 38/40\n",
            "1875/1875 [==============================] - 5s 3ms/step - loss: 0.3308 - accuracy: 0.8828 - val_loss: 0.4309 - val_accuracy: 0.8644 - lr: 0.0071\n",
            "Epoch 39/40\n",
            "1875/1875 [==============================] - 5s 3ms/step - loss: 0.3516 - accuracy: 0.8781 - val_loss: 0.4875 - val_accuracy: 0.8474 - lr: 0.0079\n",
            "Epoch 40/40\n",
            "1875/1875 [==============================] - 5s 3ms/step - loss: 0.3621 - accuracy: 0.8760 - val_loss: 0.5109 - val_accuracy: 0.8468 - lr: 0.0089\n"
          ]
        }
      ]
    },
    {
      "cell_type": "code",
      "source": [
        "lrs = 1e-4 * (10**(tf.range(40)/20))\n",
        "plt.semilogx(lrs, lr_history.history[\"loss\"])\n",
        "plt.xlabel(\"Learning rate\")\n",
        "plt.ylabel('Loss')"
      ],
      "metadata": {
        "colab": {
          "base_uri": "https://localhost:8080/",
          "height": 300
        },
        "id": "qV8sASfpWWqC",
        "outputId": "3b0ba23d-fc02-474e-9e2d-772977d97f47"
      },
      "execution_count": null,
      "outputs": [
        {
          "output_type": "execute_result",
          "data": {
            "text/plain": [
              "Text(0, 0.5, 'Loss')"
            ]
          },
          "metadata": {},
          "execution_count": 109
        },
        {
          "output_type": "display_data",
          "data": {
            "text/plain": [
              "<Figure size 432x288 with 1 Axes>"
            ],
            "image/png": "[encoded data removed]"
          },
          "metadata": {
            "needs_background": "light"
          }
        }
      ]
    },
    {
      "cell_type": "code",
      "source": [],
      "metadata": {
        "id": "RrKuhK-oXtJi"
      },
      "execution_count": null,
      "outputs": []
    },
    {
      "cell_type": "code",
      "source": [
        "tf.random.set_seed(42)\n",
        "\n",
        "model_14 = tf.keras.Sequential([\n",
        "  tf.keras.layers.Flatten(input_shape=(28, 28)),\n",
        "  tf.keras.layers.Dense(100, activation=\"relu\"),\n",
        "  tf.keras.layers.Dense(100, activation=\"relu\"),\n",
        "  tf.keras.layers.Dense(10, activation=tf.keras.activations.softmax)\n",
        "])\n",
        "\n",
        "model_14.compile(loss=tf.keras.losses.CategoricalCrossentropy(),\n",
        "                 optimizer=tf.keras.optimizers.Adam(0.0001),\n",
        "                 metrics=[\"accuracy\"])\n",
        "\n",
        "\n",
        "final_history = model_14.fit(train_data_norm,\n",
        "                            tf.one_hot(train_labels, depth=10),\n",
        "                            epochs=40,\n",
        "                            validation_data=(test_data_norm, tf.one_hot(test_labels, depth=10)))"
      ],
      "metadata": {
        "colab": {
          "base_uri": "https://localhost:8080/"
        },
        "outputId": "516c54c8-5eed-4a1a-ca81-3ee7f1e49c2f",
        "id": "BNDCJC9nY9Zy"
      },
      "execution_count": null,
      "outputs": [
        {
          "output_type": "stream",
          "name": "stdout",
          "text": [
            "Epoch 1/40\n",
            "1875/1875 [==============================] - 7s 3ms/step - loss: 0.6896 - accuracy: 0.7786 - val_loss: 0.5062 - val_accuracy: 0.8223\n",
            "Epoch 2/40\n",
            "1875/1875 [==============================] - 5s 3ms/step - loss: 0.4515 - accuracy: 0.8436 - val_loss: 0.4585 - val_accuracy: 0.8370\n",
            "Epoch 3/40\n",
            "1875/1875 [==============================] - 7s 4ms/step - loss: 0.4102 - accuracy: 0.8562 - val_loss: 0.4397 - val_accuracy: 0.8392\n",
            "Epoch 4/40\n",
            "1875/1875 [==============================] - 9s 5ms/step - loss: 0.3833 - accuracy: 0.8658 - val_loss: 0.4110 - val_accuracy: 0.8530\n",
            "Epoch 5/40\n",
            "1875/1875 [==============================] - 8s 4ms/step - loss: 0.3662 - accuracy: 0.8700 - val_loss: 0.4052 - val_accuracy: 0.8552\n",
            "Epoch 6/40\n",
            "1875/1875 [==============================] - 8s 4ms/step - loss: 0.3515 - accuracy: 0.8751 - val_loss: 0.4001 - val_accuracy: 0.8556\n",
            "Epoch 7/40\n",
            "1875/1875 [==============================] - 8s 4ms/step - loss: 0.3400 - accuracy: 0.8794 - val_loss: 0.3995 - val_accuracy: 0.8549\n",
            "Epoch 8/40\n",
            "1875/1875 [==============================] - 8s 4ms/step - loss: 0.3290 - accuracy: 0.8832 - val_loss: 0.3736 - val_accuracy: 0.8662\n",
            "Epoch 9/40\n",
            "1875/1875 [==============================] - 8s 4ms/step - loss: 0.3205 - accuracy: 0.8847 - val_loss: 0.3632 - val_accuracy: 0.8690\n",
            "Epoch 10/40\n",
            "1875/1875 [==============================] - 8s 4ms/step - loss: 0.3132 - accuracy: 0.8876 - val_loss: 0.3648 - val_accuracy: 0.8702\n",
            "Epoch 11/40\n",
            "1875/1875 [==============================] - 5s 3ms/step - loss: 0.3061 - accuracy: 0.8902 - val_loss: 0.3538 - val_accuracy: 0.8731\n",
            "Epoch 12/40\n",
            "1875/1875 [==============================] - 5s 3ms/step - loss: 0.2984 - accuracy: 0.8919 - val_loss: 0.3560 - val_accuracy: 0.8718\n",
            "Epoch 13/40\n",
            "1875/1875 [==============================] - 6s 3ms/step - loss: 0.2933 - accuracy: 0.8942 - val_loss: 0.3501 - val_accuracy: 0.8726\n",
            "Epoch 14/40\n",
            "1875/1875 [==============================] - 5s 3ms/step - loss: 0.2877 - accuracy: 0.8965 - val_loss: 0.3492 - val_accuracy: 0.8742\n",
            "Epoch 15/40\n",
            "1875/1875 [==============================] - 5s 3ms/step - loss: 0.2820 - accuracy: 0.8980 - val_loss: 0.3476 - val_accuracy: 0.8746\n",
            "Epoch 16/40\n",
            "1875/1875 [==============================] - 5s 3ms/step - loss: 0.2771 - accuracy: 0.9003 - val_loss: 0.3448 - val_accuracy: 0.8774\n",
            "Epoch 17/40\n",
            "1875/1875 [==============================] - 5s 3ms/step - loss: 0.2719 - accuracy: 0.9016 - val_loss: 0.3445 - val_accuracy: 0.8775\n",
            "Epoch 18/40\n",
            "1875/1875 [==============================] - 5s 3ms/step - loss: 0.2685 - accuracy: 0.9018 - val_loss: 0.3379 - val_accuracy: 0.8807\n",
            "Epoch 19/40\n",
            "1875/1875 [==============================] - 5s 3ms/step - loss: 0.2640 - accuracy: 0.9039 - val_loss: 0.3429 - val_accuracy: 0.8767\n",
            "Epoch 20/40\n",
            "1875/1875 [==============================] - 5s 3ms/step - loss: 0.2605 - accuracy: 0.9056 - val_loss: 0.3369 - val_accuracy: 0.8796\n",
            "Epoch 21/40\n",
            "1875/1875 [==============================] - 5s 3ms/step - loss: 0.2549 - accuracy: 0.9076 - val_loss: 0.3340 - val_accuracy: 0.8805\n",
            "Epoch 22/40\n",
            "1875/1875 [==============================] - 5s 3ms/step - loss: 0.2508 - accuracy: 0.9083 - val_loss: 0.3402 - val_accuracy: 0.8802\n",
            "Epoch 23/40\n",
            "1875/1875 [==============================] - 6s 3ms/step - loss: 0.2483 - accuracy: 0.9100 - val_loss: 0.3381 - val_accuracy: 0.8799\n",
            "Epoch 24/40\n",
            "1875/1875 [==============================] - 5s 3ms/step - loss: 0.2451 - accuracy: 0.9115 - val_loss: 0.3403 - val_accuracy: 0.8776\n",
            "Epoch 25/40\n",
            "1875/1875 [==============================] - 5s 3ms/step - loss: 0.2406 - accuracy: 0.9121 - val_loss: 0.3439 - val_accuracy: 0.8769\n",
            "Epoch 26/40\n",
            "1875/1875 [==============================] - 5s 3ms/step - loss: 0.2387 - accuracy: 0.9137 - val_loss: 0.3282 - val_accuracy: 0.8832\n",
            "Epoch 27/40\n",
            "1875/1875 [==============================] - 5s 3ms/step - loss: 0.2349 - accuracy: 0.9143 - val_loss: 0.3333 - val_accuracy: 0.8815\n",
            "Epoch 28/40\n",
            "1875/1875 [==============================] - 5s 3ms/step - loss: 0.2310 - accuracy: 0.9163 - val_loss: 0.3324 - val_accuracy: 0.8840\n",
            "Epoch 29/40\n",
            "1875/1875 [==============================] - 5s 3ms/step - loss: 0.2279 - accuracy: 0.9176 - val_loss: 0.3320 - val_accuracy: 0.8831\n",
            "Epoch 30/40\n",
            "1875/1875 [==============================] - 5s 3ms/step - loss: 0.2257 - accuracy: 0.9191 - val_loss: 0.3402 - val_accuracy: 0.8808\n",
            "Epoch 31/40\n",
            "1875/1875 [==============================] - 5s 3ms/step - loss: 0.2223 - accuracy: 0.9192 - val_loss: 0.3306 - val_accuracy: 0.8824\n",
            "Epoch 32/40\n",
            "1875/1875 [==============================] - 5s 3ms/step - loss: 0.2199 - accuracy: 0.9208 - val_loss: 0.3288 - val_accuracy: 0.8852\n",
            "Epoch 33/40\n",
            "1875/1875 [==============================] - 5s 3ms/step - loss: 0.2167 - accuracy: 0.9211 - val_loss: 0.3294 - val_accuracy: 0.8862\n",
            "Epoch 34/40\n",
            "1875/1875 [==============================] - 5s 3ms/step - loss: 0.2139 - accuracy: 0.9232 - val_loss: 0.3438 - val_accuracy: 0.8797\n",
            "Epoch 35/40\n",
            "1875/1875 [==============================] - 5s 3ms/step - loss: 0.2109 - accuracy: 0.9236 - val_loss: 0.3323 - val_accuracy: 0.8854\n",
            "Epoch 36/40\n",
            "1875/1875 [==============================] - 5s 3ms/step - loss: 0.2083 - accuracy: 0.9253 - val_loss: 0.3326 - val_accuracy: 0.8846\n",
            "Epoch 37/40\n",
            "1875/1875 [==============================] - 5s 3ms/step - loss: 0.2056 - accuracy: 0.9265 - val_loss: 0.3297 - val_accuracy: 0.8877\n",
            "Epoch 38/40\n",
            "1875/1875 [==============================] - 5s 3ms/step - loss: 0.2031 - accuracy: 0.9262 - val_loss: 0.3289 - val_accuracy: 0.8840\n",
            "Epoch 39/40\n",
            "1875/1875 [==============================] - 5s 3ms/step - loss: 0.2005 - accuracy: 0.9274 - val_loss: 0.3277 - val_accuracy: 0.8876\n",
            "Epoch 40/40\n",
            "1875/1875 [==============================] - 5s 3ms/step - loss: 0.1973 - accuracy: 0.9291 - val_loss: 0.3310 - val_accuracy: 0.8878\n"
          ]
        }
      ]
    },
    {
      "cell_type": "code",
      "source": [
        "model_11.evaluate(test_data_norm, tf.one_hot(test_labels, depth=10))"
      ],
      "metadata": {
        "colab": {
          "base_uri": "https://localhost:8080/"
        },
        "id": "tZ1vePbgZMKn",
        "outputId": "ea31d7ac-d8d7-4337-a06b-b916c1a8dded"
      },
      "execution_count": null,
      "outputs": [
        {
          "output_type": "stream",
          "name": "stdout",
          "text": [
            "313/313 [==============================] - 1s 2ms/step - loss: 0.3409 - accuracy: 0.8805\n"
          ]
        },
        {
          "output_type": "execute_result",
          "data": {
            "text/plain": [
              "[0.34089234471321106, 0.8805000185966492]"
            ]
          },
          "metadata": {},
          "execution_count": 116
        }
      ]
    },
    {
      "cell_type": "code",
      "source": [
        "model_14.evaluate(test_data_norm, tf.one_hot(test_labels, depth=10))"
      ],
      "metadata": {
        "colab": {
          "base_uri": "https://localhost:8080/"
        },
        "id": "qUeaqphxbZdx",
        "outputId": "341a5cff-cbbd-4cb3-d73e-7168e77e2869"
      },
      "execution_count": null,
      "outputs": [
        {
          "output_type": "stream",
          "name": "stdout",
          "text": [
            "313/313 [==============================] - 1s 2ms/step - loss: 0.3310 - accuracy: 0.8878\n"
          ]
        },
        {
          "output_type": "execute_result",
          "data": {
            "text/plain": [
              "[0.330982506275177, 0.8877999782562256]"
            ]
          },
          "metadata": {},
          "execution_count": 117
        }
      ]
    },
    {
      "cell_type": "code",
      "source": [
        "final_preds = model_14.predict(test_data_norm)\n"
      ],
      "metadata": {
        "id": "Tzo8g2PLb5B0"
      },
      "execution_count": null,
      "outputs": []
    },
    {
      "cell_type": "code",
      "source": [
        "final_preds[0].argmax()"
      ],
      "metadata": {
        "colab": {
          "base_uri": "https://localhost:8080/"
        },
        "id": "gpAh6qVSc_0g",
        "outputId": "61558db5-05f2-428a-b2ba-ab9d8e8543ac"
      },
      "execution_count": null,
      "outputs": [
        {
          "output_type": "execute_result",
          "data": {
            "text/plain": [
              "9"
            ]
          },
          "metadata": {},
          "execution_count": 122
        }
      ]
    },
    {
      "cell_type": "code",
      "source": [
        "tf.math.argmax(final_preds, axis=1)"
      ],
      "metadata": {
        "colab": {
          "base_uri": "https://localhost:8080/"
        },
        "id": "es8GFK9qdWSh",
        "outputId": "faedfae5-7bd2-4304-cbc5-7bbbc5022680"
      },
      "execution_count": null,
      "outputs": [
        {
          "output_type": "execute_result",
          "data": {
            "text/plain": [
              "<tf.Tensor: shape=(10000,), dtype=int64, numpy=array([9, 2, 1, ..., 8, 1, 5])>"
            ]
          },
          "metadata": {},
          "execution_count": 124
        }
      ]
    },
    {
      "cell_type": "code",
      "source": [
        "test_labels"
      ],
      "metadata": {
        "colab": {
          "base_uri": "https://localhost:8080/"
        },
        "id": "CgqIh8Z9de6S",
        "outputId": "683fc9fc-8908-42e4-ce6f-ec0e439d193d"
      },
      "execution_count": null,
      "outputs": [
        {
          "output_type": "execute_result",
          "data": {
            "text/plain": [
              "array([9, 2, 1, ..., 8, 1, 5], dtype=uint8)"
            ]
          },
          "metadata": {},
          "execution_count": 125
        }
      ]
    },
    {
      "cell_type": "code",
      "source": [
        "cm = confusion_matrix(tf.math.argmax(final_preds, axis=1), test_labels)"
      ],
      "metadata": {
        "id": "GK7-V_qWdpVW"
      },
      "execution_count": null,
      "outputs": []
    },
    {
      "cell_type": "code",
      "source": [
        "from sklearn.metrics import ConfusionMatrixDisplay"
      ],
      "metadata": {
        "id": "UJOuKISHdzIX"
      },
      "execution_count": null,
      "outputs": []
    },
    {
      "cell_type": "code",
      "source": [
        "fig, ax = plt.subplots(figsize=(12,12))\n",
        "disp = ConfusionMatrixDisplay(cm, \n",
        "                              display_labels=class_names\n",
        "                              )\n",
        "disp.plot(ax=ax,\n",
        "          xticks_rotation=\"vertical\"          \n",
        "          )\n",
        "plt.show()"
      ],
      "metadata": {
        "colab": {
          "base_uri": "https://localhost:8080/",
          "height": 699
        },
        "id": "c75M8lb6eAQs",
        "outputId": "75a27ab4-fad9-4dc8-9de6-e6296b695efb"
      },
      "execution_count": null,
      "outputs": [
        {
          "output_type": "display_data",
          "data": {
            "text/plain": [
              "<Figure size 864x864 with 2 Axes>"
            ],
            "image/png": "[encoded data removed]"
          },
          "metadata": {
            "needs_background": "light"
          }
        }
      ]
    },
    {
      "cell_type": "code",
      "source": [
        "class_names"
      ],
      "metadata": {
        "colab": {
          "base_uri": "https://localhost:8080/"
        },
        "id": "qjr8_nYGeJg6",
        "outputId": "b401b1f6-0d7c-452c-b6a9-b783f029ccef"
      },
      "execution_count": null,
      "outputs": [
        {
          "output_type": "execute_result",
          "data": {
            "text/plain": [
              "['T-shirt/top',\n",
              " 'Trouser',\n",
              " 'Pullover',\n",
              " 'Dress',\n",
              " 'Coat',\n",
              " 'Sandal',\n",
              " 'Shirt',\n",
              " 'Sneaker',\n",
              " 'Bag',\n",
              " 'Ankle boot']"
            ]
          },
          "metadata": {},
          "execution_count": 132
        }
      ]
    },
    {
      "cell_type": "code",
      "source": [
        "def plot_random_image(images, true_labels, classes, model=model_14):\n",
        "  i = random.randint(0, len(images))\n",
        "\n",
        "  target_image = images[i]\n",
        "  pred_probs = model.predict((target_image/255).reshape(1, 28, 28))\n",
        "  pred_label = classes[pred_probs.argmax()]\n",
        "  true_label = classes[true_labels[i]]\n",
        "\n",
        "  plt.imshow(target_image, cmap=plt.cm.binary)\n",
        "\n",
        "  if pred_label == true_label:\n",
        "    color = \"green\"\n",
        "  else:\n",
        "    color = \"red\"\n",
        "\n",
        "  plt.xlabel(\"Pred: {} {:2.0f}% (True: {})\".format(pred_label,\n",
        "                                                   100*tf.reduce_max(pred_probs),\n",
        "                                                   true_label),\n",
        "             color=color)"
      ],
      "metadata": {
        "id": "fW21tjZNehxs"
      },
      "execution_count": null,
      "outputs": []
    },
    {
      "cell_type": "code",
      "source": [
        "plot_random_image(images=test_data, true_labels=test_labels, classes=class_names)"
      ],
      "metadata": {
        "colab": {
          "base_uri": "https://localhost:8080/",
          "height": 279
        },
        "id": "f-gMdfn5lDFm",
        "outputId": "f2ee1555-2db5-49f7-88ac-98121a155707"
      },
      "execution_count": null,
      "outputs": [
        {
          "output_type": "display_data",
          "data": {
            "text/plain": [
              "<Figure size 432x288 with 1 Axes>"
            ],
            "image/png": "[encoded data removed]"
          },
          "metadata": {
            "needs_background": "light"
          }
        }
      ]
    },
    {
      "cell_type": "code",
      "source": [],
      "metadata": {
        "id": "hCyj7NxElpQt"
      },
      "execution_count": null,
      "outputs": []
    }
  ]
}